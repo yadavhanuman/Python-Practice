{
 "cells": [
  {
   "cell_type": "code",
   "execution_count": 2,
   "id": "f3b1242f",
   "metadata": {
    "scrolled": true
   },
   "outputs": [
    {
     "name": "stdout",
     "output_type": "stream",
     "text": [
      "<mysql.connector.connection_cext.CMySQLConnection object at 0x0000014AC1DF3B90>\n"
     ]
    }
   ],
   "source": [
    "import mysql.connector as mc\n",
    "mydb=mc.connect(host='localhost',user='root',password='')\n",
    "print(mydb)\n",
    "\n",
    "\n"
   ]
  },
  {
   "cell_type": "code",
   "execution_count": 4,
   "id": "89235e52",
   "metadata": {},
   "outputs": [
    {
     "name": "stdout",
     "output_type": "stream",
     "text": [
      "CMySQLCursor: create database radha\n"
     ]
    }
   ],
   "source": [
    "mydbcursor =mydb.cursor()\n",
    "mydbcursor.execute(\"create database radha\")\n",
    "\n",
    "print(mydbcursor)\n"
   ]
  }
 ],
 "metadata": {
  "kernelspec": {
   "display_name": "Python 3 (ipykernel)",
   "language": "python",
   "name": "python3"
  },
  "language_info": {
   "codemirror_mode": {
    "name": "ipython",
    "version": 3
   },
   "file_extension": ".py",
   "mimetype": "text/x-python",
   "name": "python",
   "nbconvert_exporter": "python",
   "pygments_lexer": "ipython3",
   "version": "3.11.4"
  }
 },
 "nbformat": 4,
 "nbformat_minor": 5
}
