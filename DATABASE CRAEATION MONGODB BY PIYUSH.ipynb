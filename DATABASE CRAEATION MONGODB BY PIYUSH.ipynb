{
 "cells": [
  {
   "cell_type": "code",
   "execution_count": 3,
   "id": "939478a4",
   "metadata": {},
   "outputs": [],
   "source": [
    "import pymongo "
   ]
  },
  {
   "cell_type": "code",
   "execution_count": 3,
   "id": "f53b4ee8",
   "metadata": {},
   "outputs": [
    {
     "name": "stdout",
     "output_type": "stream",
     "text": [
      "connect\n"
     ]
    }
   ],
   "source": [
    "import pymongo\n",
    "conn=pymongo.MongoClient('mongodb://localhost:27017')\n",
    "print('connect')"
   ]
  },
  {
   "cell_type": "code",
   "execution_count": 7,
   "id": "852a29c5",
   "metadata": {},
   "outputs": [
    {
     "name": "stdout",
     "output_type": "stream",
     "text": [
      "Database(MongoClient(host=['localhost:27017'], document_class=dict, tz_aware=False, connect=True), 'Ritu')\n"
     ]
    }
   ],
   "source": [
    "database=conn[\"Ritu\"]\n",
    "print(database)"
   ]
  },
  {
   "cell_type": "code",
   "execution_count": 8,
   "id": "842044b7",
   "metadata": {},
   "outputs": [
    {
     "name": "stdout",
     "output_type": "stream",
     "text": [
      "Collection(Database(MongoClient(host=['localhost:27017'], document_class=dict, tz_aware=False, connect=True), 'Ritu'), 'Madam')\n"
     ]
    }
   ],
   "source": [
    "conn=database[\"Madam\"]\n",
    "print(conn)"
   ]
  },
  {
   "cell_type": "code",
   "execution_count": 9,
   "id": "315359ca",
   "metadata": {},
   "outputs": [
    {
     "name": "stdout",
     "output_type": "stream",
     "text": [
      "<pymongo.results.InsertOneResult object at 0x0000027F1068BFA0>\n"
     ]
    }
   ],
   "source": [
    "# document =conn.insert_One({\"name\":\"piyush\",\"city\":\"rura\"})\n",
    "\n",
    "# print(document)\n",
    "\n",
    "\n",
    "document=conn.insert_one({'name':'hanuman','age':25,'laptop':False})\n",
    "print(document)"
   ]
  },
  {
   "cell_type": "code",
   "execution_count": 12,
   "id": "39cb0c14",
   "metadata": {},
   "outputs": [
    {
     "name": "stdout",
     "output_type": "stream",
     "text": [
      "<pymongo.results.InsertOneResult object at 0x0000027F10771F90>\n"
     ]
    }
   ],
   "source": [
    "mydict = { \"name\": \"John\", \"address\": \"Highway 37\" }\n",
    "\n",
    "x = conn.insert_one(mydict)\n",
    "\n",
    "print(x)\n",
    "\n"
   ]
  },
  {
   "cell_type": "code",
   "execution_count": 15,
   "id": "09145f2f",
   "metadata": {},
   "outputs": [
    {
     "name": "stdout",
     "output_type": "stream",
     "text": [
      "{'_id': ObjectId('64c3a01bb7b5be09d5a84cde'), 'name': 'hanuman', 'age': 25, 'laptop': False}\n",
      "{'_id': ObjectId('64c3a124b7b5be09d5a84cdf'), 'name': 'John', 'address': 'Highway 37'}\n",
      "{'_id': ObjectId('64c3a125b7b5be09d5a84ce0'), 'name': 'John', 'address': 'Highway 37'}\n",
      "{'_id': ObjectId('64c3a125b7b5be09d5a84ce1'), 'name': 'John', 'address': 'Highway 37'}\n",
      "{'_id': ObjectId('64c3a125b7b5be09d5a84ce2'), 'name': 'John', 'address': 'Highway 37'}\n",
      "{'_id': ObjectId('64c3a18bfab492d65e055bfd'), 'name': 'hanuman', 'age': 25, 'laptop': False}\n",
      "{'_id': ObjectId('64c3a18ffab492d65e055bfe'), 'name': 'John', 'address': 'Highway 37'}\n",
      "{'_id': ObjectId('64c3a190fab492d65e055bff'), 'name': 'John', 'address': 'Highway 37'}\n",
      "{'_id': ObjectId('64c3a1a6fab492d65e055c00'), 'name': 'John', 'address': 'Highway 37'}\n"
     ]
    }
   ],
   "source": [
    "a= conn.find()\n",
    "\n",
    "for i in a:\n",
    "    print(i)"
   ]
  },
  {
   "cell_type": "code",
   "execution_count": 18,
   "id": "df4cedfb",
   "metadata": {},
   "outputs": [
    {
     "name": "stdout",
     "output_type": "stream",
     "text": [
      "Collection(Database(MongoClient(host=['localhost:27017'], document_class=dict, tz_aware=False, connect=True), 'Ritu'), \"Madam.insert_Many.({'name': 'radha', 'city': 'sulemanpur', 'age': 14}, {'name': 'mohan', 'city': 'kanpur', 'age': 24}, {'name': 'mohanlala', 'city': 'lalapur', 'age': 22})\")\n"
     ]
    }
   ],
   "source": [
    "many = [\n",
    "    {'name':\"radha\",'city':\"sulemanpur\",'age':14},\n",
    "    {'name':\"mohan\",'city':\"kanpur\",'age':24},\n",
    "    {'name':\"mohanlala\",'city':\"lalapur\",'age':22}\n",
    "]\n",
    "\n",
    "    "
   ]
  }
 ],
 "metadata": {
  "kernelspec": {
   "display_name": "Python 3 (ipykernel)",
   "language": "python",
   "name": "python3"
  },
  "language_info": {
   "codemirror_mode": {
    "name": "ipython",
    "version": 3
   },
   "file_extension": ".py",
   "mimetype": "text/x-python",
   "name": "python",
   "nbconvert_exporter": "python",
   "pygments_lexer": "ipython3",
   "version": "3.11.4"
  }
 },
 "nbformat": 4,
 "nbformat_minor": 5
}
