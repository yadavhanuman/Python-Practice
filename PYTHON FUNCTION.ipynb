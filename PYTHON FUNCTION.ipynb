{
 "cells": [
  {
   "cell_type": "code",
   "execution_count": 80,
   "id": "4d96e765",
   "metadata": {},
   "outputs": [],
   "source": [
    "class NSTI:\n",
    "    def hello(self,name):\n",
    "        print('welcome to the team:' + name)\n",
    "        \n",
    "class ADIT(NSTI):\n",
    "    def hello(self,name):\n",
    "        #super().hello()\n",
    "        print( 'this is ADIT batch 2022-2024:' + name)"
   ]
  },
  {
   "cell_type": "code",
   "execution_count": 70,
   "id": "40c9e01b",
   "metadata": {},
   "outputs": [],
   "source": [
    "jitendar=NSTI()"
   ]
  },
  {
   "cell_type": "code",
   "execution_count": 71,
   "id": "0ae1968d",
   "metadata": {},
   "outputs": [
    {
     "name": "stdout",
     "output_type": "stream",
     "text": [
      "welcome to the team:raju\n"
     ]
    }
   ],
   "source": [
    "jitendar.hello('raju')\n"
   ]
  },
  {
   "cell_type": "code",
   "execution_count": 81,
   "id": "9214d94b",
   "metadata": {},
   "outputs": [],
   "source": [
    "damodar = ADIT()"
   ]
  },
  {
   "cell_type": "code",
   "execution_count": 82,
   "id": "dc2c63b3",
   "metadata": {},
   "outputs": [
    {
     "name": "stdout",
     "output_type": "stream",
     "text": [
      "this is ADIT batch 2022-2024:hanu\n"
     ]
    }
   ],
   "source": [
    "\n",
    "damodar.hello('hanu')"
   ]
  },
  {
   "cell_type": "code",
   "execution_count": 83,
   "id": "6295ae04",
   "metadata": {},
   "outputs": [
    {
     "name": "stdout",
     "output_type": "stream",
     "text": [
      "enter temp in fahrenheit45\n",
      "7.222222222222222 °C, in celsius\n"
     ]
    }
   ],
   "source": [
    "fah= float(input('enter temp in fahrenheit'))\n",
    "cel=5/9*(fah-32)\n",
    "print('{} °C, in celsius'.format(cel))"
   ]
  },
  {
   "cell_type": "code",
   "execution_count": 87,
   "id": "29354fc9",
   "metadata": {},
   "outputs": [
    {
     "name": "stdout",
     "output_type": "stream",
     "text": [
      "enter the number:3\n",
      "factorial of 3 is: 6\n"
     ]
    }
   ],
   "source": [
    "a=int(input('enter the number:'))\n",
    "b=1\n",
    "for i in range(1, a+1):\n",
    "    b=b*i\n",
    "print('factorial of {} is:'.format(a),b)"
   ]
  },
  {
   "cell_type": "code",
   "execution_count": 88,
   "id": "8926267d",
   "metadata": {},
   "outputs": [
    {
     "name": "stdout",
     "output_type": "stream",
     "text": [
      "enter your number:3\n",
      "factorial of 3 is: 6\n"
     ]
    }
   ],
   "source": [
    "import math\n",
    "a=int(input('enter your number:'))\n",
    "b=math.factorial(a)\n",
    "print('factorial of {} is: {}'.format(a,b))"
   ]
  },
  {
   "cell_type": "code",
   "execution_count": 90,
   "id": "c211ad45",
   "metadata": {},
   "outputs": [
    {
     "name": "stdout",
     "output_type": "stream",
     "text": [
      "raja\n",
      "not a palindrome\n"
     ]
    }
   ],
   "source": [
    "a=input()\n",
    "b=reversed(a)\n",
    "if list(a)==list(b):\n",
    "    print('the text is palindrome')\n",
    "else:\n",
    "    print('not a palindrome')\n",
    "    "
   ]
  },
  {
   "cell_type": "code",
   "execution_count": 124,
   "id": "ad9f74c0",
   "metadata": {
    "scrolled": true
   },
   "outputs": [
    {
     "name": "stdout",
     "output_type": "stream",
     "text": [
      "enter your radius:5\n",
      "Area of circle: 78.54\n",
      "Diameter of circle: 10\n",
      "Perimeter of circle: 31.42\n"
     ]
    }
   ],
   "source": [
    "import math\n",
    "class circle():\n",
    "    def __init__(self,radius):\n",
    "        self.radius=radius\n",
    "    def area(self):\n",
    "        return math.pi*(self.radius**2)\n",
    "    def perimeter(self):\n",
    "        return 2*math.pi*self.radius\n",
    "    def diameter(self):\n",
    "        return 2*self.radius\n",
    "    \n",
    "a= float(input('enter your radius:'))\n",
    "obj=circle('value_of_circle')\n",
    "print(\"Area of circle:\",round(obj.area(),2))\n",
    "print(\"Diameter of circle:\",round(obj.diameter(),2))\n",
    "print(\"Perimeter of circle:\",round(obj.perimeter(),2))\n",
    "\n"
   ]
  },
  {
   "cell_type": "code",
   "execution_count": 117,
   "id": "50faf0a7",
   "metadata": {},
   "outputs": [
    {
     "name": "stdout",
     "output_type": "stream",
     "text": [
      "Enter radius of circle: 5\n",
      "Area of circle: 78.54\n",
      "Perimeter of circle: 31.42\n"
     ]
    }
   ],
   "source": [
    "class circle():\n",
    "    def __init__(self,radius):\n",
    "        self.radius=radius\n",
    "    def area(self):\n",
    "        return math.pi*(self.radius**2)\n",
    "    def perimeter(self):\n",
    "        return 2*math.pi*self.radius\n",
    "#read value of area input from user\n",
    "value_of_circle=int(input(\"Enter radius of circle: \"))\n",
    "#Object for Class\n",
    "obj=circle(value_of_circle)\n",
    "print(\"Area of circle:\",round(obj.area(),2))\n",
    "print(\"Perimeter of circle:\",round(obj.perimeter(),2))"
   ]
  },
  {
   "cell_type": "code",
   "execution_count": 125,
   "id": "413ad84c",
   "metadata": {},
   "outputs": [
    {
     "data": {
      "text/plain": [
       "[10, 15, 20, 45, 50]"
      ]
     },
     "execution_count": 125,
     "metadata": {},
     "output_type": "execute_result"
    }
   ],
   "source": [
    "x=[45,20,50,15,10]\n",
    "x.sort()\n",
    "x"
   ]
  },
  {
   "cell_type": "code",
   "execution_count": null,
   "id": "852397d4",
   "metadata": {},
   "outputs": [],
   "source": []
  },
  {
   "cell_type": "code",
   "execution_count": null,
   "id": "f03f4330",
   "metadata": {},
   "outputs": [],
   "source": []
  },
  {
   "cell_type": "code",
   "execution_count": null,
   "id": "0ee535f1",
   "metadata": {},
   "outputs": [],
   "source": []
  },
  {
   "cell_type": "code",
   "execution_count": null,
   "id": "a55b80f7",
   "metadata": {},
   "outputs": [],
   "source": []
  },
  {
   "cell_type": "code",
   "execution_count": null,
   "id": "1943d7e6",
   "metadata": {},
   "outputs": [],
   "source": []
  }
 ],
 "metadata": {
  "kernelspec": {
   "display_name": "Python 3 (ipykernel)",
   "language": "python",
   "name": "python3"
  },
  "language_info": {
   "codemirror_mode": {
    "name": "ipython",
    "version": 3
   },
   "file_extension": ".py",
   "mimetype": "text/x-python",
   "name": "python",
   "nbconvert_exporter": "python",
   "pygments_lexer": "ipython3",
   "version": "3.11.4"
  }
 },
 "nbformat": 4,
 "nbformat_minor": 5
}
