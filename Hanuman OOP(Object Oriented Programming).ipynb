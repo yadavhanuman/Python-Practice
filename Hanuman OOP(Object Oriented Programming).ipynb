{
 "cells": [
  {
   "cell_type": "code",
   "execution_count": 7,
   "id": "d2d57d00",
   "metadata": {},
   "outputs": [],
   "source": [
    "#this is to create a new class\n",
    "class students:\n",
    "    pass"
   ]
  },
  {
   "cell_type": "code",
   "execution_count": 8,
   "id": "06e07901",
   "metadata": {},
   "outputs": [],
   "source": [
    "#this is to create objects\n",
    "a=students()\n",
    "b=students()\n",
    "c=students()"
   ]
  },
  {
   "cell_type": "code",
   "execution_count": 11,
   "id": "2aaf25e2",
   "metadata": {},
   "outputs": [],
   "source": [
    "a.name='hanuman'\n",
    "a.phone=7800100900\n",
    "a.age=19"
   ]
  },
  {
   "cell_type": "code",
   "execution_count": 9,
   "id": "319e7ae7",
   "metadata": {},
   "outputs": [],
   "source": [
    "b.name='mukesh'\n",
    "b.phone=7800100900\n",
    "b.age=19"
   ]
  },
  {
   "cell_type": "code",
   "execution_count": 12,
   "id": "d117650a",
   "metadata": {},
   "outputs": [
    {
     "name": "stdout",
     "output_type": "stream",
     "text": [
      "19\n",
      "19\n"
     ]
    }
   ],
   "source": [
    "print(b.age)\n",
    "print(a.age)"
   ]
  },
  {
   "cell_type": "code",
   "execution_count": 3,
   "id": "c2c3f32f",
   "metadata": {},
   "outputs": [],
   "source": [
    "class ADIT:\n",
    "    def __init__(self,name,age,location):\n",
    "        self.name=name\n",
    "        self.age=age\n",
    "        self.location=location\n",
    "        self.stipend=3000\n",
    "        self.stipend=['HTML','CSS','PHP']\n",
    "        self.email=name+'.'+location+'@gmail.com'\n",
    "        self.tax=3000\n",
    "        \n",
    "        def abc(self):\n",
    "            return '{} {}'.format( self.name,self.age)\n",
    "        def increment(self):\n",
    "            self.Raise=int(self.stipend *0.14 +self.stipend)\n",
    "    "
   ]
  },
  {
   "cell_type": "code",
   "execution_count": 4,
   "id": "8ab9659a",
   "metadata": {},
   "outputs": [],
   "source": [
    "a1=ADIT('Ambika',18,'Allahabad')\n",
    "a2=ADIT('Hanuman',25,'Allahabad')\n",
    "a3=ADIT('sakshi',19,'Allahabad')\n",
    "a4=ADIT('Vinod',25,'Allahabad')\n",
    "a5=ADIT('Bhawan',25,'Dehradun')"
   ]
  },
  {
   "cell_type": "code",
   "execution_count": 21,
   "id": "25477b94",
   "metadata": {},
   "outputs": [
    {
     "data": {
      "text/plain": [
       "'Allahabad'"
      ]
     },
     "execution_count": 21,
     "metadata": {},
     "output_type": "execute_result"
    }
   ],
   "source": [
    "a4.location"
   ]
  },
  {
   "cell_type": "code",
   "execution_count": 5,
   "id": "27baf076",
   "metadata": {},
   "outputs": [
    {
     "data": {
      "text/plain": [
       "'Ambika.Allahabad@gmail.com'"
      ]
     },
     "execution_count": 5,
     "metadata": {},
     "output_type": "execute_result"
    }
   ],
   "source": [
    "a1.email"
   ]
  },
  {
   "cell_type": "code",
   "execution_count": 6,
   "id": "6187fe59",
   "metadata": {},
   "outputs": [
    {
     "name": "stdout",
     "output_type": "stream",
     "text": [
      "Ambika 18 Allahabad \n"
     ]
    }
   ],
   "source": [
    "print(('{} {} {} ' .format(a1.name,a1.age,a1.location)))"
   ]
  },
  {
   "cell_type": "code",
   "execution_count": 1,
   "id": "db25cbfe",
   "metadata": {},
   "outputs": [],
   "source": [
    "class patna:\n",
    "    def __init__(self,name,designation,salary):\n",
    "        self.name=name\n",
    "        self.post=designation\n",
    "        self.pay=salary\n",
    "        self.tax=salary *0.12\n",
    "                \n",
    "        "
   ]
  },
  {
   "cell_type": "code",
   "execution_count": 2,
   "id": "94d71bfa",
   "metadata": {},
   "outputs": [],
   "source": [
    "a1=patna('rahul','hr',500000)"
   ]
  },
  {
   "cell_type": "code",
   "execution_count": 3,
   "id": "ef53c08d",
   "metadata": {},
   "outputs": [],
   "source": [
    "a2=patna('sahul','Traner',500000)"
   ]
  },
  {
   "cell_type": "code",
   "execution_count": 4,
   "id": "f51a8464",
   "metadata": {},
   "outputs": [],
   "source": [
    "a3=patna('piyush','Traner',500000)"
   ]
  },
  {
   "cell_type": "code",
   "execution_count": 6,
   "id": "dbb04600",
   "metadata": {},
   "outputs": [
    {
     "data": {
      "text/plain": [
       "500000"
      ]
     },
     "execution_count": 6,
     "metadata": {},
     "output_type": "execute_result"
    }
   ],
   "source": [
    "a1.pay"
   ]
  },
  {
   "cell_type": "code",
   "execution_count": 7,
   "id": "a455214a",
   "metadata": {},
   "outputs": [
    {
     "data": {
      "text/plain": [
       "60000.0"
      ]
     },
     "execution_count": 7,
     "metadata": {},
     "output_type": "execute_result"
    }
   ],
   "source": [
    "a2.tax"
   ]
  }
 ],
 "metadata": {
  "kernelspec": {
   "display_name": "Python 3 (ipykernel)",
   "language": "python",
   "name": "python3"
  },
  "language_info": {
   "codemirror_mode": {
    "name": "ipython",
    "version": 3
   },
   "file_extension": ".py",
   "mimetype": "text/x-python",
   "name": "python",
   "nbconvert_exporter": "python",
   "pygments_lexer": "ipython3",
   "version": "3.11.4"
  }
 },
 "nbformat": 4,
 "nbformat_minor": 5
}
