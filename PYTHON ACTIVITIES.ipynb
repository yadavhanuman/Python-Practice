{
 "cells": [
  {
   "cell_type": "markdown",
   "id": "006502b3",
   "metadata": {},
   "source": [
    "# PYTHON  ACTIVITY-8"
   ]
  },
  {
   "cell_type": "code",
   "execution_count": null,
   "id": "c4bd435e",
   "metadata": {},
   "outputs": [],
   "source": [
    "#Aim: Write a Python program to find whether a given number (accept from the user) is even or odd\n",
    "#by using if else command.\n"
   ]
  },
  {
   "cell_type": "code",
   "execution_count": 5,
   "id": "b412827d",
   "metadata": {},
   "outputs": [
    {
     "name": "stdout",
     "output_type": "stream",
     "text": [
      "Enter a number:0\n",
      "This is an even number\n"
     ]
    }
   ],
   "source": [
    "a=int(input('Enter a number:'))\n",
    "if(a%2==0):\n",
    "    print('This is an even number')\n",
    "else:\n",
    "    print('This is an odd number')\n"
   ]
  },
  {
   "cell_type": "markdown",
   "id": "aabef440",
   "metadata": {},
   "source": [
    "# ACTIVITY-9"
   ]
  },
  {
   "cell_type": "code",
   "execution_count": null,
   "id": "5f451d9d",
   "metadata": {},
   "outputs": [],
   "source": [
    "#Aim: Write a Python program to create a histogram from a given list of integers by using for while\n",
    "#loop"
   ]
  },
  {
   "cell_type": "code",
   "execution_count": 9,
   "id": "644ef0b3",
   "metadata": {},
   "outputs": [
    {
     "name": "stdout",
     "output_type": "stream",
     "text": [
      "*\n",
      "**\n",
      "***\n",
      "****\n",
      "*****\n"
     ]
    }
   ],
   "source": [
    "def histogram( items ):\n",
    "    for n in items:\n",
    "        output = ''      \n",
    "        times = n\n",
    "    while( times > 0 ):\n",
    "        output += '*'\n",
    "        times = (times-1 )\n",
    "        print(output) \n",
    "histogram([2, 3, 6, 5])"
   ]
  },
  {
   "cell_type": "markdown",
   "id": "75ebdc6d",
   "metadata": {},
   "source": [
    "# ACTIVITY-10"
   ]
  },
  {
   "cell_type": "code",
   "execution_count": null,
   "id": "aee2dc80",
   "metadata": {},
   "outputs": [],
   "source": [
    "#Aim: Write a Python program to compute the greatest common divisor (GCD) of two positive\n",
    "#integers by using loop\n"
   ]
  },
  {
   "cell_type": "code",
   "execution_count": 7,
   "id": "c7e428c6",
   "metadata": {},
   "outputs": [
    {
     "name": "stdout",
     "output_type": "stream",
     "text": [
      "1\n",
      "2\n"
     ]
    }
   ],
   "source": [
    "def gcd(x, y): \n",
    "    gcd = 1\n",
    "    if x % y == 0:\n",
    "            return y\n",
    "    for k in range(int(y / 2), 0, -1):\n",
    "        \n",
    "        if x % k == 0 and y % k == 0:\n",
    "            \n",
    "            gcd = k\n",
    "            break\n",
    "    return gcd\n",
    "print(gcd(12, 17)) \n",
    "print(gcd(4, 6))"
   ]
  },
  {
   "cell_type": "markdown",
   "id": "524f7bb8",
   "metadata": {},
   "source": [
    "# ACTIVITY -11"
   ]
  },
  {
   "cell_type": "code",
   "execution_count": null,
   "id": "29220c99",
   "metadata": {},
   "outputs": [],
   "source": [
    "#Aim: Write a Python program to get the least common multiple (LCM) of two positive integers using\n",
    "#if else and while commands"
   ]
  },
  {
   "cell_type": "code",
   "execution_count": 2,
   "id": "9de53ae1",
   "metadata": {},
   "outputs": [
    {
     "name": "stdout",
     "output_type": "stream",
     "text": [
      "12\n",
      "255\n"
     ]
    }
   ],
   "source": [
    "def lcm(x, y):\n",
    "    \n",
    "    if x > y:\n",
    "        \n",
    "        z = x\n",
    "    else:\n",
    "        z = y\n",
    "    while(True):\n",
    "        \n",
    "        if((z % x == 0) and (z % y == 0)):\n",
    "            \n",
    "            lcm = z\n",
    "            break\n",
    "        z += 1\n",
    "    return lcm\n",
    "print(lcm(4, 6))\n",
    "print(lcm(15, 17))"
   ]
  },
  {
   "cell_type": "code",
   "execution_count": null,
   "id": "cc12b465",
   "metadata": {},
   "outputs": [],
   "source": []
  },
  {
   "cell_type": "code",
   "execution_count": null,
   "id": "f13d0644",
   "metadata": {},
   "outputs": [],
   "source": []
  },
  {
   "cell_type": "code",
   "execution_count": null,
   "id": "ef9fd0e6",
   "metadata": {},
   "outputs": [],
   "source": []
  },
  {
   "cell_type": "code",
   "execution_count": null,
   "id": "c20c697f",
   "metadata": {},
   "outputs": [],
   "source": []
  },
  {
   "cell_type": "code",
   "execution_count": null,
   "id": "33f2919b",
   "metadata": {},
   "outputs": [],
   "source": []
  },
  {
   "cell_type": "code",
   "execution_count": null,
   "id": "640a7df3",
   "metadata": {},
   "outputs": [],
   "source": []
  },
  {
   "cell_type": "code",
   "execution_count": null,
   "id": "cdabf203",
   "metadata": {},
   "outputs": [],
   "source": []
  },
  {
   "cell_type": "code",
   "execution_count": null,
   "id": "0ea2a0b4",
   "metadata": {},
   "outputs": [],
   "source": []
  }
 ],
 "metadata": {
  "kernelspec": {
   "display_name": "Python 3 (ipykernel)",
   "language": "python",
   "name": "python3"
  },
  "language_info": {
   "codemirror_mode": {
    "name": "ipython",
    "version": 3
   },
   "file_extension": ".py",
   "mimetype": "text/x-python",
   "name": "python",
   "nbconvert_exporter": "python",
   "pygments_lexer": "ipython3",
   "version": "3.11.4"
  }
 },
 "nbformat": 4,
 "nbformat_minor": 5
}
