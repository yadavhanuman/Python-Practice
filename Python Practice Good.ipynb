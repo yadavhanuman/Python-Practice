{
 "cells": [
  {
   "cell_type": "markdown",
   "id": "89ae631c",
   "metadata": {},
   "source": [
    "# wap(write a programe) to chek the given year leap year or not.\n"
   ]
  },
  {
   "cell_type": "code",
   "execution_count": 37,
   "id": "e18337fa",
   "metadata": {},
   "outputs": [
    {
     "name": "stdout",
     "output_type": "stream",
     "text": [
      "Enter your year:1222\n",
      "It is not a leap year \n"
     ]
    }
   ],
   "source": [
    "a=int(input('Enter your year:'))\n",
    "if(a%4==0 and a%100!=0) or a%400==0 :\n",
    "    print('It is a leap year')\n",
    "else:\n",
    "    print('It is not a leap year ')"
   ]
  },
  {
   "cell_type": "markdown",
   "id": "5522a753",
   "metadata": {},
   "source": [
    "# wap to calculate compound ,simple interest after taking principle,rate,time"
   ]
  },
  {
   "cell_type": "code",
   "execution_count": 6,
   "id": "062410a0",
   "metadata": {},
   "outputs": [
    {
     "name": "stdout",
     "output_type": "stream",
     "text": [
      " principle:1000\n",
      " time:1\n",
      " rate:2\n",
      "It is simple interest : 20.0\n",
      "It is compound interest : 20.4\n"
     ]
    }
   ],
   "source": [
    "a=int(input(' principle:'))\n",
    "b=int(input(' time:'))\n",
    "c=int(input(' rate:'))\n",
    "d=(a*b*c)/100\n",
    "e=((a+d)*b*c)/100\n",
    "print('It is simple interest :',d)\n",
    "print('It is compound interest :',e)"
   ]
  },
  {
   "cell_type": "markdown",
   "id": "85c3f237",
   "metadata": {},
   "source": [
    "# there are start question 1 who is given by gufran sir"
   ]
  },
  {
   "cell_type": "code",
   "execution_count": 3,
   "id": "739b3680",
   "metadata": {},
   "outputs": [
    {
     "name": "stdout",
     "output_type": "stream",
     "text": [
      "Enter b number:3\n",
      "Enter h number:5\n",
      "IT IS THE ANSWER OF (A): 15.0\n"
     ]
    }
   ],
   "source": [
    "b=int(input('Enter b number:'))\n",
    "h=int(input('Enter h number:'))\n",
    "a=(1/3)*b*b*h\n",
    "print('IT IS THE ANSWER OF (A):',a)\n",
    "\n",
    "\n"
   ]
  },
  {
   "cell_type": "code",
   "execution_count": null,
   "id": "1da53a18",
   "metadata": {},
   "outputs": [],
   "source": []
  },
  {
   "cell_type": "code",
   "execution_count": 7,
   "id": "a55d7ca5",
   "metadata": {},
   "outputs": [
    {
     "name": "stdout",
     "output_type": "stream",
     "text": [
      "*\n",
      "***\n",
      "*****\n",
      "*******\n",
      "*********\n"
     ]
    }
   ],
   "source": [
    "for i in range(5):\n",
    "    print('*', end='')\n",
    "    for j in (1,5):\n",
    "        print(i*'*',end='')\n",
    "    print()"
   ]
  },
  {
   "cell_type": "code",
   "execution_count": 8,
   "id": "52aab623",
   "metadata": {},
   "outputs": [
    {
     "name": "stdout",
     "output_type": "stream",
     "text": [
      "0\n",
      "01\n",
      "012\n",
      "0123\n",
      "01234\n"
     ]
    }
   ],
   "source": [
    "for i in range(5):\n",
    "    for j in range(0,i+1,+1):\n",
    "        print(j,end='')\n",
    "        \n",
    "    print()\n",
    "    \n",
    "    \n"
   ]
  },
  {
   "cell_type": "code",
   "execution_count": 12,
   "id": "a32c5c4c",
   "metadata": {},
   "outputs": [
    {
     "name": "stdout",
     "output_type": "stream",
     "text": [
      "enter a string:abcde\n",
      "\n",
      "a\n",
      "ab\n",
      "abc\n",
      "abcd\n"
     ]
    }
   ],
   "source": [
    "s=input('enter a string:')\n",
    "n=len(s)\n",
    "for i in range(0,n):\n",
    "    for j in range(0,i):\n",
    "        print(s[j],end='')\n",
    "    \n",
    "    print()\n",
    "    \n",
    "    \n",
    "    \n"
   ]
  },
  {
   "cell_type": "code",
   "execution_count": null,
   "id": "55d587ae",
   "metadata": {},
   "outputs": [],
   "source": []
  }
 ],
 "metadata": {
  "kernelspec": {
   "display_name": "Python 3 (ipykernel)",
   "language": "python",
   "name": "python3"
  },
  "language_info": {
   "codemirror_mode": {
    "name": "ipython",
    "version": 3
   },
   "file_extension": ".py",
   "mimetype": "text/x-python",
   "name": "python",
   "nbconvert_exporter": "python",
   "pygments_lexer": "ipython3",
   "version": "3.11.4"
  }
 },
 "nbformat": 4,
 "nbformat_minor": 5
}
