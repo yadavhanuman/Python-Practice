{
 "cells": [
  {
   "cell_type": "code",
   "execution_count": 22,
   "id": "bd35244c",
   "metadata": {},
   "outputs": [
    {
     "name": "stdout",
     "output_type": "stream",
     "text": [
      "connect\n"
     ]
    }
   ],
   "source": [
    "\n",
    "import pymongo\n",
    "conn=pymongo.MongoClient('mongodb://localhost:27017')\n",
    "print('connect')"
   ]
  },
  {
   "cell_type": "code",
   "execution_count": 23,
   "id": "0746e84f",
   "metadata": {},
   "outputs": [
    {
     "name": "stdout",
     "output_type": "stream",
     "text": [
      "database\n"
     ]
    }
   ],
   "source": [
    "database=conn['Dehradun']\n",
    "print('database')"
   ]
  },
  {
   "cell_type": "code",
   "execution_count": 24,
   "id": "c04b765d",
   "metadata": {},
   "outputs": [
    {
     "name": "stdout",
     "output_type": "stream",
     "text": [
      "ok\n"
     ]
    }
   ],
   "source": [
    "conn=database['Students']\n",
    "print('ok')"
   ]
  },
  {
   "cell_type": "code",
   "execution_count": 68,
   "id": "4cc099bb",
   "metadata": {},
   "outputs": [
    {
     "name": "stdout",
     "output_type": "stream",
     "text": [
      "<pymongo.results.InsertOneResult object at 0x0000024C708A1BD0>\n"
     ]
    }
   ],
   "source": [
    "document=conn.insert_one({'name':'hanuman','age':25,'laptop':False})\n",
    "print(document)"
   ]
  },
  {
   "cell_type": "code",
   "execution_count": 67,
   "id": "485cdbe9",
   "metadata": {},
   "outputs": [
    {
     "name": "stdout",
     "output_type": "stream",
     "text": [
      "<pymongo.results.InsertManyResult object at 0x0000024C71190EB0>\n"
     ]
    }
   ],
   "source": [
    "document1=conn.insert_many([{'name':'rahul','age':20},{'name':'sakshi','age':23}])\n",
    "print(document1)"
   ]
  },
  {
   "cell_type": "code",
   "execution_count": 27,
   "id": "3e2c2c72",
   "metadata": {},
   "outputs": [
    {
     "name": "stdout",
     "output_type": "stream",
     "text": [
      "<pymongo.results.InsertOneResult object at 0x0000024C71601390>\n"
     ]
    }
   ],
   "source": [
    "set1={'name':'Bhagwan','age':19}\n",
    "document=conn.insert_one(set1)\n",
    "print(document)"
   ]
  },
  {
   "cell_type": "code",
   "execution_count": 65,
   "id": "4c5f9631",
   "metadata": {},
   "outputs": [
    {
     "name": "stdout",
     "output_type": "stream",
     "text": [
      "<pymongo.results.InsertManyResult object at 0x0000024C71190550>\n"
     ]
    }
   ],
   "source": [
    "set2=[{'name':'mukesh','age':25,'laptop':True},{'name':'damodar','age':33}]\n",
    "document3=conn.insert_many(set2)\n",
    "print(document3)"
   ]
  },
  {
   "cell_type": "code",
   "execution_count": 50,
   "id": "f15f5044",
   "metadata": {},
   "outputs": [
    {
     "data": {
      "text/plain": [
       "{'_id': ObjectId('64b4c9a7d4555ec6a921a834'),\n",
       " 'name': 'hanuman',\n",
       " 'age': 19,\n",
       " 'laptop': False}"
      ]
     },
     "execution_count": 50,
     "metadata": {},
     "output_type": "execute_result"
    }
   ],
   "source": [
    "collection.find_one()"
   ]
  },
  {
   "cell_type": "code",
   "execution_count": 55,
   "id": "700f4488",
   "metadata": {},
   "outputs": [
    {
     "name": "stdout",
     "output_type": "stream",
     "text": [
      "{'_id': ObjectId('64b4c9a7d4555ec6a921a834'), 'name': 'hanuman', 'age': 19, 'laptop': False}\n",
      "{'_id': ObjectId('64b4d0f1d4555ec6a921a841'), 'name': 'mukesh', 'age': 25, 'laptop': True}\n",
      "{'_id': ObjectId('64b4d0f1d4555ec6a921a842'), 'name': 'damodar', 'age': 33}\n",
      "{'_id': ObjectId('64b4d521d4555ec6a921a843'), 'name': 'hanuman', 'age': 19, 'laptop': False}\n"
     ]
    }
   ],
   "source": [
    "d=collection.find()\n",
    "for x in d:print(x)"
   ]
  },
  {
   "cell_type": "code",
   "execution_count": 58,
   "id": "87ddd0a6",
   "metadata": {},
   "outputs": [
    {
     "name": "stdout",
     "output_type": "stream",
     "text": [
      "<pymongo.cursor.Cursor object at 0x0000024C72293B10>\n",
      "{'_id': ObjectId('64b4d0f1d4555ec6a921a841'), 'name': 'mukesh', 'age': 25, 'laptop': True}\n"
     ]
    }
   ],
   "source": [
    "d=collection.find({'laptop':True})\n",
    "print(d)\n",
    "for x in d:print(x)"
   ]
  },
  {
   "cell_type": "code",
   "execution_count": 73,
   "id": "0545b882",
   "metadata": {},
   "outputs": [
    {
     "name": "stdout",
     "output_type": "stream",
     "text": [
      "{'_id': ObjectId('64b4c9a7d4555ec6a921a834'), 'name': 'hanuman', 'age': 19, 'laptop': False}\n",
      "{'_id': ObjectId('64b4d521d4555ec6a921a843'), 'name': 'hanuman', 'age': 19, 'laptop': False}\n",
      "{'_id': ObjectId('64b4ed3cd4555ec6a921a84c'), 'name': 'hanuman', 'age': 25, 'laptop': False}\n",
      "{'_id': ObjectId('64b4ecfbd4555ec6a921a844'), 'name': 'mukesh', 'age': 25, 'laptop': True}\n",
      "{'_id': ObjectId('64b4ecfcd4555ec6a921a846'), 'name': 'mukesh', 'age': 25, 'laptop': True}\n",
      "{'_id': ObjectId('64b4ed2ad4555ec6a921a848'), 'name': 'rahul', 'age': 20}\n",
      "{'_id': ObjectId('64b4ed2bd4555ec6a921a84a'), 'name': 'rahul', 'age': 20}\n",
      "{'_id': ObjectId('64b4ed2ad4555ec6a921a849'), 'name': 'sakshi', 'age': 23}\n",
      "{'_id': ObjectId('64b4ed2bd4555ec6a921a84b'), 'name': 'sakshi', 'age': 23}\n"
     ]
    }
   ],
   "source": [
    "j=collection.find().sort(\"name\")\n",
    "for x in j:print(x)"
   ]
  },
  {
   "cell_type": "code",
   "execution_count": 62,
   "id": "fe6abcd5",
   "metadata": {},
   "outputs": [
    {
     "data": {
      "text/plain": [
       "<pymongo.results.DeleteResult at 0x24c70acf5b0>"
      ]
     },
     "execution_count": 62,
     "metadata": {},
     "output_type": "execute_result"
    }
   ],
   "source": [
    "k=collection.delete_one({'age':25})\n",
    "k"
   ]
  },
  {
   "cell_type": "code",
   "execution_count": 75,
   "id": "74bb8600",
   "metadata": {},
   "outputs": [
    {
     "name": "stdout",
     "output_type": "stream",
     "text": [
      "<pymongo.results.DeleteResult object at 0x0000024C71C31180>\n"
     ]
    }
   ],
   "source": [
    "l=collection.delete_many({'age':50})\n",
    "print(l)"
   ]
  },
  {
   "cell_type": "code",
   "execution_count": null,
   "id": "dd13f03e",
   "metadata": {},
   "outputs": [],
   "source": []
  }
 ],
 "metadata": {
  "kernelspec": {
   "display_name": "Python 3 (ipykernel)",
   "language": "python",
   "name": "python3"
  },
  "language_info": {
   "codemirror_mode": {
    "name": "ipython",
    "version": 3
   },
   "file_extension": ".py",
   "mimetype": "text/x-python",
   "name": "python",
   "nbconvert_exporter": "python",
   "pygments_lexer": "ipython3",
   "version": "3.11.4"
  }
 },
 "nbformat": 4,
 "nbformat_minor": 5
}
