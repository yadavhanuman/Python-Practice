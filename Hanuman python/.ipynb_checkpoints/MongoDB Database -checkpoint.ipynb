{
 "cells": [
  {
   "cell_type": "code",
   "execution_count": 22,
   "id": "bd35244c",
   "metadata": {},
   "outputs": [
    {
     "name": "stdout",
     "output_type": "stream",
     "text": [
      "connect\n"
     ]
    }
   ],
   "source": [
    "import pymongo\n",
    "conn=pymongo.MongoClient('mongodb://localhost:27017')\n",
    "print('connect')"
   ]
  },
  {
   "cell_type": "code",
   "execution_count": 23,
   "id": "b93b63fa",
   "metadata": {},
   "outputs": [
    {
     "name": "stdout",
     "output_type": "stream",
     "text": [
      "database\n"
     ]
    }
   ],
   "source": [
    "database=conn['Dehradun']\n",
    "print('database')"
   ]
  },
  {
   "cell_type": "code",
   "execution_count": 24,
   "id": "1414b675",
   "metadata": {},
   "outputs": [
    {
     "name": "stdout",
     "output_type": "stream",
     "text": [
      "ok\n"
     ]
    }
   ],
   "source": [
    "conn=database['Students']\n",
    "print('ok')"
   ]
  },
  {
   "cell_type": "code",
   "execution_count": 40,
   "id": "25740b11",
   "metadata": {},
   "outputs": [
    {
     "name": "stdout",
     "output_type": "stream",
     "text": [
      "<pymongo.results.InsertOneResult object at 0x0000024C71C31810>\n"
     ]
    }
   ],
   "source": [
    "document=conn.insert_one({'name':'hanuman','age':19,'laptop':False})\n",
    "print(document)"
   ]
  },
  {
   "cell_type": "code",
   "execution_count": 26,
   "id": "6f326bb6",
   "metadata": {},
   "outputs": [
    {
     "name": "stdout",
     "output_type": "stream",
     "text": [
      "<pymongo.results.InsertManyResult object at 0x0000024C71191900>\n"
     ]
    }
   ],
   "source": [
    "document1=conn.insert_many([{'name':'mukesh','age':25},{'name':'damodar','age':33}])\n",
    "print(document1)"
   ]
  },
  {
   "cell_type": "code",
   "execution_count": 27,
   "id": "35209a3d",
   "metadata": {},
   "outputs": [
    {
     "name": "stdout",
     "output_type": "stream",
     "text": [
      "<pymongo.results.InsertOneResult object at 0x0000024C71601390>\n"
     ]
    }
   ],
   "source": [
    "set1={'name':'Bhagwan','age':19}\n",
    "document=conn.insert_one(set1)\n",
    "print(document)"
   ]
  },
  {
   "cell_type": "code",
   "execution_count": 28,
   "id": "44cdc7bb",
   "metadata": {},
   "outputs": [
    {
     "name": "stdout",
     "output_type": "stream",
     "text": [
      "<pymongo.results.InsertManyResult object at 0x0000024C71191960>\n"
     ]
    }
   ],
   "source": [
    "set2=[{'name':'mukesh','age':25,'laptop':True},{'name':'damodar','age':33}]\n",
    "document3=conn.insert_many(set2)\n",
    "print(document3)"
   ]
  },
  {
   "cell_type": "code",
   "execution_count": 50,
   "id": "210bbbb1",
   "metadata": {},
   "outputs": [
    {
     "data": {
      "text/plain": [
       "{'_id': ObjectId('64b4c9a7d4555ec6a921a834'),\n",
       " 'name': 'hanuman',\n",
       " 'age': 19,\n",
       " 'laptop': False}"
      ]
     },
     "execution_count": 50,
     "metadata": {},
     "output_type": "execute_result"
    }
   ],
   "source": [
    "collection.find_one()"
   ]
  },
  {
   "cell_type": "code",
   "execution_count": 55,
   "id": "64839fb1",
   "metadata": {},
   "outputs": [
    {
     "name": "stdout",
     "output_type": "stream",
     "text": [
      "{'_id': ObjectId('64b4c9a7d4555ec6a921a834'), 'name': 'hanuman', 'age': 19, 'laptop': False}\n",
      "{'_id': ObjectId('64b4d0f1d4555ec6a921a841'), 'name': 'mukesh', 'age': 25, 'laptop': True}\n",
      "{'_id': ObjectId('64b4d0f1d4555ec6a921a842'), 'name': 'damodar', 'age': 33}\n",
      "{'_id': ObjectId('64b4d521d4555ec6a921a843'), 'name': 'hanuman', 'age': 19, 'laptop': False}\n"
     ]
    }
   ],
   "source": [
    "d=collection.find()\n",
    "for x in d:print(x)"
   ]
  },
  {
   "cell_type": "code",
   "execution_count": 58,
   "id": "6aadb461",
   "metadata": {},
   "outputs": [
    {
     "name": "stdout",
     "output_type": "stream",
     "text": [
      "<pymongo.cursor.Cursor object at 0x0000024C72293B10>\n",
      "{'_id': ObjectId('64b4d0f1d4555ec6a921a841'), 'name': 'mukesh', 'age': 25, 'laptop': True}\n"
     ]
    }
   ],
   "source": [
    "d=collection.find({'laptop':True})\n",
    "print(d)\n",
    "for x in d:print(x)"
   ]
  },
  {
   "cell_type": "code",
   "execution_count": 57,
   "id": "a21cbbb8",
   "metadata": {},
   "outputs": [
    {
     "name": "stdout",
     "output_type": "stream",
     "text": [
      "{'_id': ObjectId('64b4c9a7d4555ec6a921a834'), 'name': 'hanuman', 'age': 19, 'laptop': False}\n",
      "{'_id': ObjectId('64b4d521d4555ec6a921a843'), 'name': 'hanuman', 'age': 19, 'laptop': False}\n",
      "{'_id': ObjectId('64b4d0f1d4555ec6a921a841'), 'name': 'mukesh', 'age': 25, 'laptop': True}\n",
      "{'_id': ObjectId('64b4d0f1d4555ec6a921a842'), 'name': 'damodar', 'age': 33}\n"
     ]
    }
   ],
   "source": [
    "j=collection.find().sort(\"age\")\n",
    "for x in j:print(x)"
   ]
  },
  {
   "cell_type": "code",
   "execution_count": null,
   "id": "d59d3e82",
   "metadata": {},
   "outputs": [],
   "source": []
  }
 ],
 "metadata": {
  "kernelspec": {
   "display_name": "Python 3 (ipykernel)",
   "language": "python",
   "name": "python3"
  },
  "language_info": {
   "codemirror_mode": {
    "name": "ipython",
    "version": 3
   },
   "file_extension": ".py",
   "mimetype": "text/x-python",
   "name": "python",
   "nbconvert_exporter": "python",
   "pygments_lexer": "ipython3",
   "version": "3.11.4"
  }
 },
 "nbformat": 4,
 "nbformat_minor": 5
}
