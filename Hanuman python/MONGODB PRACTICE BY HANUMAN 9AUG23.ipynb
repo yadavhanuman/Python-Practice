{
 "cells": [
  {
   "cell_type": "code",
   "execution_count": 1,
   "id": "74060698",
   "metadata": {},
   "outputs": [
    {
     "name": "stdout",
     "output_type": "stream",
     "text": [
      "connected\n"
     ]
    }
   ],
   "source": [
    "import pymongo \n",
    "conn= pymongo.MongoClient('mongodb://localhost:27017')\n",
    "print('connected')"
   ]
  },
  {
   "cell_type": "code",
   "execution_count": 3,
   "id": "15bcd8f1",
   "metadata": {},
   "outputs": [
    {
     "name": "stdout",
     "output_type": "stream",
     "text": [
      "database created\n"
     ]
    }
   ],
   "source": [
    "database=conn['facebook']\n",
    "print('database created')"
   ]
  },
  {
   "cell_type": "code",
   "execution_count": 4,
   "id": "ebd1a196",
   "metadata": {},
   "outputs": [
    {
     "name": "stdout",
     "output_type": "stream",
     "text": [
      "collection created\n"
     ]
    }
   ],
   "source": [
    "collection=database['Client']\n",
    "print('collection created')"
   ]
  },
  {
   "cell_type": "code",
   "execution_count": null,
   "id": "adb89108",
   "metadata": {},
   "outputs": [],
   "source": []
  },
  {
   "cell_type": "code",
   "execution_count": null,
   "id": "2d5a2888",
   "metadata": {},
   "outputs": [],
   "source": [
    "for i in range (1,5):\n",
    "    for j in range(1,8):\n",
    "        if "
   ]
  },
  {
   "cell_type": "code",
   "execution_count": 16,
   "id": "328d03fb",
   "metadata": {},
   "outputs": [
    {
     "data": {
      "text/plain": [
       "<_io.TextIOWrapper name='raja.txt' mode='x' encoding='cp1252'>"
      ]
     },
     "execution_count": 16,
     "metadata": {},
     "output_type": "execute_result"
    }
   ],
   "source": [
    "a=open('raja.txt','x')\n",
    "a"
   ]
  },
  {
   "cell_type": "code",
   "execution_count": 19,
   "id": "cb24adda",
   "metadata": {},
   "outputs": [
    {
     "name": "stdout",
     "output_type": "stream",
     "text": [
      "87\n"
     ]
    }
   ],
   "source": [
    "a=open('raja.txt','w')\n",
    "b=a.write('hywewegqhbbgwjhbogtijaW{)ejufwa[0jPH J]} hergdhegrhdgru  juyjuyuyu iuyijuyiujyui uiuiu ')\n",
    "print(b)"
   ]
  },
  {
   "cell_type": "code",
   "execution_count": 28,
   "id": "c5280a18",
   "metadata": {},
   "outputs": [],
   "source": [
    "# a=open('raja.txt','r')\n",
    "# b=a.read()\n",
    "# for i in b:print(b)"
   ]
  },
  {
   "cell_type": "code",
   "execution_count": 27,
   "id": "71c4f415",
   "metadata": {},
   "outputs": [],
   "source": [
    "# a=open('rajas.txt','a')\n",
    "\n",
    "# a"
   ]
  },
  {
   "cell_type": "code",
   "execution_count": null,
   "id": "9aa559aa",
   "metadata": {},
   "outputs": [],
   "source": []
  },
  {
   "cell_type": "code",
   "execution_count": null,
   "id": "0f43e796",
   "metadata": {},
   "outputs": [],
   "source": []
  },
  {
   "cell_type": "code",
   "execution_count": null,
   "id": "58c3c198",
   "metadata": {},
   "outputs": [],
   "source": []
  },
  {
   "cell_type": "code",
   "execution_count": null,
   "id": "f5794d5f",
   "metadata": {},
   "outputs": [],
   "source": []
  }
 ],
 "metadata": {
  "kernelspec": {
   "display_name": "Python 3 (ipykernel)",
   "language": "python",
   "name": "python3"
  },
  "language_info": {
   "codemirror_mode": {
    "name": "ipython",
    "version": 3
   },
   "file_extension": ".py",
   "mimetype": "text/x-python",
   "name": "python",
   "nbconvert_exporter": "python",
   "pygments_lexer": "ipython3",
   "version": "3.11.4"
  }
 },
 "nbformat": 4,
 "nbformat_minor": 5
}
