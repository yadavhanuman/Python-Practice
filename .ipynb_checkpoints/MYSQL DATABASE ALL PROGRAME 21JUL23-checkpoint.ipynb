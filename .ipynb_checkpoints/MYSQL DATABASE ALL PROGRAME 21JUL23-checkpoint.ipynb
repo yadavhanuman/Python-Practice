{
 "cells": [
  {
   "cell_type": "code",
   "execution_count": 9,
   "id": "bac3de84",
   "metadata": {},
   "outputs": [
    {
     "name": "stdout",
     "output_type": "stream",
     "text": [
      "<mysql.connector.connection_cext.CMySQLConnection object at 0x000001F0D3B80390>\n"
     ]
    }
   ],
   "source": [
    "import mysql.connector as mc\n",
    "conn=mc.connect(host='localhost',user='root',password='')\n",
    "print(conn)\n",
    "mycursor=conn.cursor()\n",
    "# mycursor.execute('CREATE DATABASE DAY')\n",
    "# print(mycursor)"
   ]
  },
  {
   "cell_type": "code",
   "execution_count": 10,
   "id": "88fc00f1",
   "metadata": {},
   "outputs": [
    {
     "name": "stdout",
     "output_type": "stream",
     "text": [
      "('adit',)\n",
      "('crudopration',)\n",
      "('day',)\n",
      "('facebook',)\n",
      "('ibm',)\n",
      "('information_schema',)\n",
      "('istagram',)\n",
      "('jai',)\n",
      "('laravel',)\n",
      "('mysql',)\n",
      "('performance_schema',)\n",
      "('phpmyadmin',)\n",
      "('rani',)\n",
      "('test',)\n",
      "('university',)\n",
      "('univesity',)\n",
      "('user',)\n"
     ]
    }
   ],
   "source": [
    "mycursor=conn.cursor()\n",
    "mycursor.execute(\"show databases\")\n",
    "\n",
    "for i in mycursor:\n",
    "    print(i)"
   ]
  },
  {
   "cell_type": "code",
   "execution_count": 34,
   "id": "85c84f6d",
   "metadata": {},
   "outputs": [],
   "source": [
    "# mycursor=conn.cursor()\n",
    "# mycursor.execute(\"drop database youtube\")\n",
    "# print(mycursor)"
   ]
  },
  {
   "cell_type": "code",
   "execution_count": 11,
   "id": "b0cb538e",
   "metadata": {},
   "outputs": [
    {
     "name": "stdout",
     "output_type": "stream",
     "text": [
      "CMySQLCursor: use day\n"
     ]
    }
   ],
   "source": [
    "mycursor=conn.cursor()\n",
    "mycursor.execute(\"use day\")\n",
    "print(mycursor)\n",
    "\n"
   ]
  },
  {
   "cell_type": "code",
   "execution_count": 12,
   "id": "d191153d",
   "metadata": {},
   "outputs": [
    {
     "name": "stdout",
     "output_type": "stream",
     "text": [
      "CMySQLCursor: create table night(name varchar(20) not ..\n"
     ]
    }
   ],
   "source": [
    "mycursor=conn.cursor()\n",
    "mycursor.execute(\"create table night(name varchar(20) not null,age int(3),city varchar(40) not null)\")\n",
    "print(mycursor)"
   ]
  },
  {
   "cell_type": "code",
   "execution_count": 13,
   "id": "91d9e0d6",
   "metadata": {},
   "outputs": [
    {
     "name": "stdout",
     "output_type": "stream",
     "text": [
      "CMySQLCursor: alter table night add column course varc..\n"
     ]
    }
   ],
   "source": [
    "mycursor=conn.cursor()\n",
    "mycursor.execute(\"alter table night add column course varchar(255) not null \")\n",
    "print(mycursor)"
   ]
  },
  {
   "cell_type": "code",
   "execution_count": 15,
   "id": "6046e6da",
   "metadata": {},
   "outputs": [
    {
     "name": "stdout",
     "output_type": "stream",
     "text": [
      "CMySQLCursor: insert into night(name,age,city,course) ..\n"
     ]
    }
   ],
   "source": [
    "mycursor=conn.cursor()\n",
    "sql =\"insert into night(name,age,city,course) values(%s,%s,%s,%s)\"\n",
    "\n",
    "val= [\n",
    "    (\"atul\",25,\"delhi\",\"css\"),\n",
    "      (\"sakshi\",35,\"kanpur\",\"css\")\n",
    "      ,(\"saksham\",25,\"kolkata\",\"css\"),\n",
    "      (\"gufran\",14,\"punjab\",\"css\")\n",
    "]\n",
    "\n",
    "mycursor.executemany(sql,val)\n",
    "\n",
    "conn.commit()\n",
    "\n",
    "\n",
    "print(mycursor)"
   ]
  },
  {
   "cell_type": "code",
   "execution_count": 16,
   "id": "fc453605",
   "metadata": {},
   "outputs": [
    {
     "name": "stdout",
     "output_type": "stream",
     "text": [
      "('atul', 25, 'delhi', 'css')\n",
      "('sakshi', 35, 'kanpur', 'css')\n",
      "('saksham', 25, 'kolkata', 'css')\n",
      "('gufran', 14, 'punjab', 'css')\n",
      "('atul', 25, 'delhi', 'css')\n",
      "('sakshi', 35, 'kanpur', 'css')\n",
      "('saksham', 25, 'kolkata', 'css')\n",
      "('gufran', 14, 'punjab', 'css')\n"
     ]
    }
   ],
   "source": [
    "mycursor=conn.cursor()\n",
    "mycursor.execute(\"select*from night\")\n",
    "for i in mycursor:\n",
    "    print(i)"
   ]
  },
  {
   "cell_type": "code",
   "execution_count": 7,
   "id": "44b2d136",
   "metadata": {},
   "outputs": [
    {
     "name": "stdout",
     "output_type": "stream",
     "text": [
      "('piyush',)\n",
      "('piyush',)\n",
      "('piyush',)\n",
      "('raja',)\n",
      "('rani',)\n",
      "('ram',)\n",
      "('atul',)\n",
      "('sakshi',)\n",
      "('saksham',)\n",
      "('gufran',)\n",
      "('atul',)\n",
      "('sakshi',)\n",
      "('saksham',)\n",
      "('gufran',)\n",
      "('atul',)\n",
      "('sakshi',)\n",
      "('saksham',)\n",
      "('gufran',)\n"
     ]
    }
   ],
   "source": [
    "mycursor=conn.cursor()\n",
    "mycursor.execute(\"select name from night\")\n",
    "for i in mycursor:\n",
    "    print(i)"
   ]
  },
  {
   "cell_type": "code",
   "execution_count": 8,
   "id": "24132643",
   "metadata": {},
   "outputs": [
    {
     "name": "stdout",
     "output_type": "stream",
     "text": [
      "('raja', 15, 'kanpur', 'css')\n",
      "('sakshi', 15, 'kanpur', 'css')\n",
      "('atul', 25, 'delhi', 'css')\n",
      "('saksham', 25, 'kolkata', 'css')\n",
      "('atul', 25, 'delhi', 'css')\n",
      "('saksham', 25, 'kolkata', 'css')\n"
     ]
    }
   ],
   "source": [
    "mycursor=conn.cursor()\n",
    "mycursor.execute(\"select*from night  where age between 15 and 25\")\n",
    "for i in mycursor:\n",
    "    print(i)"
   ]
  },
  {
   "cell_type": "code",
   "execution_count": 9,
   "id": "5f0abf04",
   "metadata": {},
   "outputs": [
    {
     "name": "stdout",
     "output_type": "stream",
     "text": [
      "('piyush', 14, 'delhi', 'css')\n",
      "('piyush', 14, 'delhi', 'css')\n",
      "('piyush', 14, 'delhi', 'css')\n"
     ]
    }
   ],
   "source": [
    "mycursor=conn.cursor()\n",
    "mycursor.execute(\"select*from night where name='piyush'\")\n",
    "for i in mycursor:\n",
    "    print(i)"
   ]
  },
  {
   "cell_type": "code",
   "execution_count": 10,
   "id": "0659d115",
   "metadata": {},
   "outputs": [
    {
     "name": "stdout",
     "output_type": "stream",
     "text": [
      "(18,)\n"
     ]
    }
   ],
   "source": [
    "mycursor=conn.cursor()\n",
    "mycursor.execute(\"select count(name) from night\")\n",
    "for i in mycursor:\n",
    "    print(i)"
   ]
  },
  {
   "cell_type": "code",
   "execution_count": 11,
   "id": "11c3cbfc",
   "metadata": {},
   "outputs": [
    {
     "name": "stdout",
     "output_type": "stream",
     "text": [
      "('atul', 14, 'delhi', 'css')\n",
      "('atul', 25, 'delhi', 'css')\n",
      "('atul', 25, 'delhi', 'css')\n",
      "('gufran', 14, 'punjab', 'css')\n",
      "('gufran', 14, 'punjab', 'css')\n",
      "('gufran', 14, 'punjab', 'css')\n",
      "('piyush', 14, 'delhi', 'css')\n",
      "('piyush', 14, 'delhi', 'css')\n",
      "('piyush', 14, 'delhi', 'css')\n",
      "('raja', 15, 'kanpur', 'css')\n",
      "('ram', 14, 'delhi', 'css')\n",
      "('rani', 14, 'patna', 'css')\n",
      "('saksham', 14, 'kolkata', 'css')\n",
      "('saksham', 25, 'kolkata', 'css')\n",
      "('saksham', 25, 'kolkata', 'css')\n",
      "('sakshi', 15, 'kanpur', 'css')\n",
      "('sakshi', 35, 'kanpur', 'css')\n",
      "('sakshi', 35, 'kanpur', 'css')\n"
     ]
    }
   ],
   "source": [
    "mycursor=conn.cursor()\n",
    "mycursor.execute(\"select*from night order by  name ASC\")\n",
    "for i in mycursor:\n",
    "    print(i)"
   ]
  },
  {
   "cell_type": "code",
   "execution_count": 12,
   "id": "5c9cdd2b",
   "metadata": {},
   "outputs": [
    {
     "name": "stdout",
     "output_type": "stream",
     "text": [
      "('sakshi', 15, 'kanpur', 'css')\n",
      "('sakshi', 35, 'kanpur', 'css')\n",
      "('sakshi', 35, 'kanpur', 'css')\n",
      "('saksham', 14, 'kolkata', 'css')\n",
      "('saksham', 25, 'kolkata', 'css')\n",
      "('saksham', 25, 'kolkata', 'css')\n",
      "('rani', 14, 'patna', 'css')\n",
      "('ram', 14, 'delhi', 'css')\n",
      "('raja', 15, 'kanpur', 'css')\n",
      "('piyush', 14, 'delhi', 'css')\n",
      "('piyush', 14, 'delhi', 'css')\n",
      "('piyush', 14, 'delhi', 'css')\n",
      "('gufran', 14, 'punjab', 'css')\n",
      "('gufran', 14, 'punjab', 'css')\n",
      "('gufran', 14, 'punjab', 'css')\n",
      "('atul', 14, 'delhi', 'css')\n",
      "('atul', 25, 'delhi', 'css')\n",
      "('atul', 25, 'delhi', 'css')\n"
     ]
    }
   ],
   "source": [
    "mycursor=conn.cursor()\n",
    "mycursor.execute(\"select*from night order by  name DESC\")\n",
    "for i in mycursor:\n",
    "    print(i)"
   ]
  },
  {
   "cell_type": "code",
   "execution_count": 13,
   "id": "ade67c3a",
   "metadata": {},
   "outputs": [
    {
     "name": "stdout",
     "output_type": "stream",
     "text": [
      "('piyush', 14, 'delhi', 'css')\n",
      "('raja', 15, 'kanpur', 'css')\n",
      "('rani', 14, 'patna', 'css')\n",
      "('ram', 14, 'delhi', 'css')\n",
      "('atul', 14, 'delhi', 'css')\n",
      "('sakshi', 15, 'kanpur', 'css')\n",
      "('saksham', 14, 'kolkata', 'css')\n",
      "('gufran', 14, 'punjab', 'css')\n",
      "('atul', 25, 'delhi', 'css')\n",
      "('sakshi', 35, 'kanpur', 'css')\n",
      "('saksham', 25, 'kolkata', 'css')\n"
     ]
    }
   ],
   "source": [
    "mycursor=conn.cursor()\n",
    "mycursor.execute(\"select distinct * from night\")\n",
    "for i in mycursor:\n",
    "    print(i)"
   ]
  },
  {
   "cell_type": "code",
   "execution_count": 20,
   "id": "a17243a7",
   "metadata": {},
   "outputs": [
    {
     "name": "stdout",
     "output_type": "stream",
     "text": [
      "('piyush', 14, 'delhi', 'css')\n",
      "('piyush', 14, 'delhi', 'css')\n",
      "('piyush', 14, 'delhi', 'css')\n"
     ]
    }
   ],
   "source": [
    "mycursor=conn.cursor()\n",
    "mycursor.execute(\"select * from night where name like 'p%'\")\n",
    "for i in mycursor:\n",
    "    print(i)"
   ]
  },
  {
   "cell_type": "code",
   "execution_count": 21,
   "id": "53d2e79c",
   "metadata": {},
   "outputs": [
    {
     "name": "stdout",
     "output_type": "stream",
     "text": [
      "('atul', 14, 'delhi', 'css')\n",
      "('gufran', 14, 'punjab', 'css')\n",
      "('piyush', 14, 'delhi', 'css')\n",
      "('raja', 15, 'kanpur', 'css')\n",
      "('ram', 14, 'delhi', 'css')\n",
      "('rani', 14, 'patna', 'css')\n",
      "('saksham', 14, 'kolkata', 'css')\n",
      "('sakshi', 15, 'kanpur', 'css')\n"
     ]
    }
   ],
   "source": [
    "mycursor=conn.cursor()\n",
    "mycursor.execute(\"select * from night group by name\")\n",
    "for i in mycursor:\n",
    "    print(i)"
   ]
  },
  {
   "cell_type": "code",
   "execution_count": 41,
   "id": "ae5441a3",
   "metadata": {},
   "outputs": [
    {
     "name": "stdout",
     "output_type": "stream",
     "text": [
      "('atul', 14, 'delhi')\n",
      "('gufran', 14, 'punjab')\n",
      "('raja', 15, 'kanpur')\n",
      "('ram', 14, 'delhi')\n",
      "('rani', 14, 'patna')\n",
      "('saksham', 14, 'kolkata')\n",
      "('sakshi', 15, 'kanpur')\n"
     ]
    }
   ],
   "source": [
    "mycursor=conn.cursor()\n",
    "mycursor.execute(\"select * from night group by name\")\n",
    "for i in mycursor:\n",
    "    print(i)"
   ]
  },
  {
   "cell_type": "code",
   "execution_count": 22,
   "id": "15bf3358",
   "metadata": {},
   "outputs": [
    {
     "name": "stdout",
     "output_type": "stream",
     "text": [
      "('piyush', 14, 'delhi', 'css')\n",
      "('piyush', 14, 'delhi', 'css')\n",
      "('piyush', 14, 'delhi', 'css')\n",
      "('raja', 15, 'kanpur', 'css')\n",
      "('rani', 14, 'patna', 'css')\n"
     ]
    }
   ],
   "source": [
    "mycursor=conn.cursor()\n",
    "mycursor.execute(\"select * from night limit 5\")\n",
    "for i in mycursor:\n",
    "    print(i)"
   ]
  },
  {
   "cell_type": "code",
   "execution_count": 50,
   "id": "6d2db6fc",
   "metadata": {},
   "outputs": [],
   "source": [
    "# mycursor=conn.cursor()\n",
    "# mycursor.execute(\"update night set city=' ' where n = 14\")\n",
    "# print(mycursor)"
   ]
  },
  {
   "cell_type": "code",
   "execution_count": 37,
   "id": "fb1da01e",
   "metadata": {},
   "outputs": [
    {
     "name": "stdout",
     "output_type": "stream",
     "text": [
      "CMySQLCursor: delete from night where name='hanumanlan..\n"
     ]
    }
   ],
   "source": [
    "mycursor=conn.cursor()\n",
    "mycursor.execute(\"delete from night where name='hanuman'\")\n",
    "print(mycursor)"
   ]
  },
  {
   "cell_type": "code",
   "execution_count": 52,
   "id": "eed966d8",
   "metadata": {},
   "outputs": [
    {
     "name": "stdout",
     "output_type": "stream",
     "text": [
      "CMySQLCursor: ALTER TABLE night DROP age\n"
     ]
    }
   ],
   "source": [
    "mycursor=conn.cursor()\n",
    "mycursor.execute(\"ALTER TABLE night DROP age\")\n",
    "print(mycursor)"
   ]
  },
  {
   "cell_type": "code",
   "execution_count": 8,
   "id": "2ab093d0",
   "metadata": {},
   "outputs": [
    {
     "name": "stdout",
     "output_type": "stream",
     "text": [
      "CMySQLCursor: drop table night\n"
     ]
    }
   ],
   "source": [
    "mycursor=conn.cursor()\n",
    "mycursor.execute(\"drop table night\")\n",
    "print(mycursor)"
   ]
  },
  {
   "cell_type": "code",
   "execution_count": null,
   "id": "6dbdc129",
   "metadata": {},
   "outputs": [],
   "source": []
  },
  {
   "cell_type": "code",
   "execution_count": 53,
   "id": "cc8bb7d8",
   "metadata": {},
   "outputs": [
    {
     "name": "stdout",
     "output_type": "stream",
     "text": [
      "CMySQLCursor: truncate table night\n"
     ]
    }
   ],
   "source": [
    "# mycursor=conn.cursor()\n",
    "# mycursor.execute(\"truncate table night\")\n",
    "# print(mycursor)"
   ]
  },
  {
   "cell_type": "code",
   "execution_count": 47,
   "id": "ec7170c0",
   "metadata": {},
   "outputs": [
    {
     "name": "stdout",
     "output_type": "stream",
     "text": [
      "('raja', 15, 'kanpur')\n",
      "('rani', 14, ' ')\n",
      "('ram', 14, ' ')\n",
      "('atul', 14, ' ')\n",
      "('sakshi', 15, 'kanpur')\n",
      "('saksham', 14, ' ')\n",
      "('gufran', 14, ' ')\n",
      "('atul', 25, 'delhi')\n",
      "('sakshi', 35, 'kanpur')\n",
      "('saksham', 25, 'kolkata')\n",
      "('gufran', 14, ' ')\n",
      "('atul', 25, 'delhi')\n",
      "('sakshi', 35, 'kanpur')\n",
      "('saksham', 25, 'kolkata')\n",
      "('gufran', 14, ' ')\n"
     ]
    }
   ],
   "source": [
    "mycursor=conn.cursor()\n",
    "mycursor.execute(\"select * from night\")\n",
    "for i in mycursor:\n",
    "    print(i)"
   ]
  },
  {
   "cell_type": "code",
   "execution_count": null,
   "id": "dafdfb98",
   "metadata": {},
   "outputs": [],
   "source": []
  }
 ],
 "metadata": {
  "kernelspec": {
   "display_name": "Python 3 (ipykernel)",
   "language": "python",
   "name": "python3"
  },
  "language_info": {
   "codemirror_mode": {
    "name": "ipython",
    "version": 3
   },
   "file_extension": ".py",
   "mimetype": "text/x-python",
   "name": "python",
   "nbconvert_exporter": "python",
   "pygments_lexer": "ipython3",
   "version": "3.11.4"
  }
 },
 "nbformat": 4,
 "nbformat_minor": 5
}
