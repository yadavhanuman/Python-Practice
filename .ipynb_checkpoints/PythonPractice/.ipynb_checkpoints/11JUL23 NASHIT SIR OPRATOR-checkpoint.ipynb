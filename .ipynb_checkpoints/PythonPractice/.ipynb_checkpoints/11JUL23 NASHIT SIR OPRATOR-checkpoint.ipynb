{
 "cells": [
  {
   "cell_type": "code",
   "execution_count": 1,
   "id": "31b124f6",
   "metadata": {},
   "outputs": [
    {
     "data": {
      "text/plain": [
       "['5', 'Hanuman', True, 8.2]"
      ]
     },
     "execution_count": 1,
     "metadata": {},
     "output_type": "execute_result"
    }
   ],
   "source": [
    "#List constructor:List()\n",
    "#list\n",
    "a= list(('5','Hanuman',True,8.2))\n",
    "a"
   ]
  },
  {
   "cell_type": "code",
   "execution_count": 3,
   "id": "7f97cfc6",
   "metadata": {},
   "outputs": [
    {
     "data": {
      "text/plain": [
       "['5', 'Hanuman', 'allahabad', 8.2]"
      ]
     },
     "execution_count": 3,
     "metadata": {},
     "output_type": "execute_result"
    }
   ],
   "source": [
    "a[2]='allahabad'\n",
    "a"
   ]
  },
  {
   "cell_type": "code",
   "execution_count": 12,
   "id": "e0a4c490",
   "metadata": {},
   "outputs": [
    {
     "data": {
      "text/plain": [
       "['ram', 'ram', 5, 'hanuman', 5.2]"
      ]
     },
     "execution_count": 12,
     "metadata": {},
     "output_type": "execute_result"
    }
   ],
   "source": [
    "a.insert(0,'ram')\n",
    "a\n"
   ]
  },
  {
   "cell_type": "code",
   "execution_count": 7,
   "id": "cd2d00de",
   "metadata": {},
   "outputs": [
    {
     "data": {
      "text/plain": [
       "['ram', '5', 'Hanuman', 'allahabad', 8.2, 'rahul', 'rahul']"
      ]
     },
     "execution_count": 7,
     "metadata": {},
     "output_type": "execute_result"
    }
   ],
   "source": [
    "a.append('rahul')\n",
    "a"
   ]
  },
  {
   "cell_type": "code",
   "execution_count": 8,
   "id": "187393fc",
   "metadata": {},
   "outputs": [
    {
     "data": {
      "text/plain": [
       "[5, 6, 8]"
      ]
     },
     "execution_count": 8,
     "metadata": {},
     "output_type": "execute_result"
    }
   ],
   "source": [
    "d=[5,6,8]\n",
    "d"
   ]
  },
  {
   "cell_type": "code",
   "execution_count": 9,
   "id": "e5040195",
   "metadata": {},
   "outputs": [
    {
     "data": {
      "text/plain": [
       "[5, 6, 8, 5, 'hello']"
      ]
     },
     "execution_count": 9,
     "metadata": {},
     "output_type": "execute_result"
    }
   ],
   "source": [
    "e={'hello',5}\n",
    "d.extend(e)\n",
    "d"
   ]
  },
  {
   "cell_type": "code",
   "execution_count": 10,
   "id": "58fad47d",
   "metadata": {},
   "outputs": [
    {
     "data": {
      "text/plain": [
       "[5, 'hanuman', 5.2]"
      ]
     },
     "execution_count": 10,
     "metadata": {},
     "output_type": "execute_result"
    }
   ],
   "source": [
    "a=[5,'hanuman',5.2,'hello']\n",
    "a.remove('hello')\n",
    "a"
   ]
  },
  {
   "cell_type": "code",
   "execution_count": 19,
   "id": "f772c436",
   "metadata": {},
   "outputs": [
    {
     "data": {
      "text/plain": [
       "'hanuman'"
      ]
     },
     "execution_count": 19,
     "metadata": {},
     "output_type": "execute_result"
    }
   ],
   "source": [
    "a\n",
    "a.pop(3)"
   ]
  },
  {
   "cell_type": "code",
   "execution_count": 20,
   "id": "1d730791",
   "metadata": {},
   "outputs": [
    {
     "data": {
      "text/plain": [
       "['ram', 'ram', 5]"
      ]
     },
     "execution_count": 20,
     "metadata": {},
     "output_type": "execute_result"
    }
   ],
   "source": [
    "a"
   ]
  },
  {
   "cell_type": "code",
   "execution_count": 21,
   "id": "9484ecd4",
   "metadata": {},
   "outputs": [
    {
     "data": {
      "text/plain": [
       "['ram', 'ram', 5]"
      ]
     },
     "execution_count": 21,
     "metadata": {},
     "output_type": "execute_result"
    }
   ],
   "source": [
    "a"
   ]
  },
  {
   "cell_type": "code",
   "execution_count": 23,
   "id": "7bbb8d51",
   "metadata": {},
   "outputs": [
    {
     "data": {
      "text/plain": [
       "['ram', 'ram', 5]"
      ]
     },
     "execution_count": 23,
     "metadata": {},
     "output_type": "execute_result"
    }
   ],
   "source": [
    "y=a.copy()\n",
    "y"
   ]
  },
  {
   "cell_type": "code",
   "execution_count": 25,
   "id": "c594b812",
   "metadata": {},
   "outputs": [
    {
     "data": {
      "text/plain": [
       "[5, 'hanuman', 'allahabad', True, 2.5]"
      ]
     },
     "execution_count": 25,
     "metadata": {},
     "output_type": "execute_result"
    }
   ],
   "source": [
    "b=[5,'hanuman','allahabad',True,2.5]\n",
    "b"
   ]
  },
  {
   "cell_type": "code",
   "execution_count": 27,
   "id": "578c96e7",
   "metadata": {},
   "outputs": [
    {
     "data": {
      "text/plain": [
       "[5, 'hanuman', 'allahabad', True, 2.5]"
      ]
     },
     "execution_count": 27,
     "metadata": {},
     "output_type": "execute_result"
    }
   ],
   "source": [
    "c=b.copy()\n",
    "c"
   ]
  },
  {
   "cell_type": "code",
   "execution_count": 28,
   "id": "40d1b304",
   "metadata": {},
   "outputs": [
    {
     "data": {
      "text/plain": [
       "[5, 'hanuman', 'allahabad', True, 2.5, 5, 'hanuman', 'allahabad', True, 2.5]"
      ]
     },
     "execution_count": 28,
     "metadata": {},
     "output_type": "execute_result"
    }
   ],
   "source": [
    "c*2"
   ]
  },
  {
   "cell_type": "code",
   "execution_count": 30,
   "id": "3af39dd1",
   "metadata": {},
   "outputs": [
    {
     "data": {
      "text/plain": [
       "[5, 'hanuman', 'allahabad', True, 2.5]"
      ]
     },
     "execution_count": 30,
     "metadata": {},
     "output_type": "execute_result"
    }
   ],
   "source": [
    "b\n"
   ]
  },
  {
   "cell_type": "code",
   "execution_count": 31,
   "id": "2da9219e",
   "metadata": {},
   "outputs": [
    {
     "data": {
      "text/plain": [
       "[5, 'hanuman', 'allahabad', True, 2.5]"
      ]
     },
     "execution_count": 31,
     "metadata": {},
     "output_type": "execute_result"
    }
   ],
   "source": [
    "x=b\n",
    "x"
   ]
  },
  {
   "cell_type": "code",
   "execution_count": 32,
   "id": "8d9c01e7",
   "metadata": {},
   "outputs": [
    {
     "data": {
      "text/plain": [
       "5"
      ]
     },
     "execution_count": 32,
     "metadata": {},
     "output_type": "execute_result"
    }
   ],
   "source": [
    "len(b)"
   ]
  },
  {
   "cell_type": "code",
   "execution_count": 33,
   "id": "7c97159c",
   "metadata": {},
   "outputs": [
    {
     "data": {
      "text/plain": [
       "tuple"
      ]
     },
     "execution_count": 33,
     "metadata": {},
     "output_type": "execute_result"
    }
   ],
   "source": [
    "#tuple Constructor tuple()\n",
    "c=tuple()\n",
    "type(c)"
   ]
  },
  {
   "cell_type": "code",
   "execution_count": 34,
   "id": "7b47ac8b",
   "metadata": {},
   "outputs": [
    {
     "data": {
      "text/plain": [
       "tuple"
      ]
     },
     "execution_count": 34,
     "metadata": {},
     "output_type": "execute_result"
    }
   ],
   "source": [
    "d=tuple((5,True,'mukesh'))\n",
    "type(d)"
   ]
  },
  {
   "cell_type": "code",
   "execution_count": 37,
   "id": "267f65f8",
   "metadata": {},
   "outputs": [
    {
     "data": {
      "text/plain": [
       "('anjali', 'ankit', 'hanuman')"
      ]
     },
     "execution_count": 37,
     "metadata": {},
     "output_type": "execute_result"
    }
   ],
   "source": [
    "e='anjali','ankit','hanuman'\n",
    "e\n"
   ]
  },
  {
   "cell_type": "code",
   "execution_count": 38,
   "id": "48370c85",
   "metadata": {},
   "outputs": [
    {
     "data": {
      "text/plain": [
       "'ankit'"
      ]
     },
     "execution_count": 38,
     "metadata": {},
     "output_type": "execute_result"
    }
   ],
   "source": [
    "e[-2]"
   ]
  },
  {
   "cell_type": "code",
   "execution_count": 40,
   "id": "d21248ec",
   "metadata": {},
   "outputs": [
    {
     "data": {
      "text/plain": [
       "('anjali', 'ankit')"
      ]
     },
     "execution_count": 40,
     "metadata": {},
     "output_type": "execute_result"
    }
   ],
   "source": [
    "e[0:2] #start index inclusive / end index is exclusive\n",
    "#kaha se kahe tak chahiye "
   ]
  },
  {
   "cell_type": "code",
   "execution_count": 41,
   "id": "0b64ca99",
   "metadata": {},
   "outputs": [
    {
     "data": {
      "text/plain": [
       "('anjali', 'ankit', 'hanuman')"
      ]
     },
     "execution_count": 41,
     "metadata": {},
     "output_type": "execute_result"
    }
   ],
   "source": [
    "g=tuple(e)\n",
    "g"
   ]
  },
  {
   "cell_type": "code",
   "execution_count": 44,
   "id": "91006889",
   "metadata": {},
   "outputs": [
    {
     "data": {
      "text/plain": [
       "('hello', 'j', 'h', 'hello', 'j', 'h')"
      ]
     },
     "execution_count": 44,
     "metadata": {},
     "output_type": "execute_result"
    }
   ],
   "source": [
    "a=5,6,3,2\n",
    "b='hello','j','h'\n",
    "\n",
    "b*2"
   ]
  },
  {
   "cell_type": "code",
   "execution_count": 45,
   "id": "8fdecd78",
   "metadata": {},
   "outputs": [
    {
     "data": {
      "text/plain": [
       "(5, 6, 3, 2, 5, 6, 3, 2, 5, 6, 3, 2)"
      ]
     },
     "execution_count": 45,
     "metadata": {},
     "output_type": "execute_result"
    }
   ],
   "source": [
    "a*3"
   ]
  },
  {
   "cell_type": "code",
   "execution_count": 46,
   "id": "0b00a4ac",
   "metadata": {},
   "outputs": [
    {
     "data": {
      "text/plain": [
       "(5, 6, 3, 2, 'hello', 'j', 'h')"
      ]
     },
     "execution_count": 46,
     "metadata": {},
     "output_type": "execute_result"
    }
   ],
   "source": [
    "a+b"
   ]
  },
  {
   "cell_type": "code",
   "execution_count": 47,
   "id": "3ccb2d1d",
   "metadata": {},
   "outputs": [
    {
     "data": {
      "text/plain": [
       "set"
      ]
     },
     "execution_count": 47,
     "metadata": {},
     "output_type": "execute_result"
    }
   ],
   "source": [
    "b=set()\n",
    "type(b)"
   ]
  },
  {
   "cell_type": "code",
   "execution_count": 48,
   "id": "f215ac10",
   "metadata": {},
   "outputs": [
    {
     "name": "stdout",
     "output_type": "stream",
     "text": [
      "5\n",
      "6\n",
      "3\n",
      "2\n"
     ]
    }
   ],
   "source": [
    "for i in a:print(i)"
   ]
  },
  {
   "cell_type": "code",
   "execution_count": 49,
   "id": "b3fa35b0",
   "metadata": {},
   "outputs": [
    {
     "data": {
      "text/plain": [
       "(5, 6, 3, 2)"
      ]
     },
     "execution_count": 49,
     "metadata": {},
     "output_type": "execute_result"
    }
   ],
   "source": [
    "a"
   ]
  },
  {
   "cell_type": "code",
   "execution_count": 59,
   "id": "f37c4ac3",
   "metadata": {
    "scrolled": true
   },
   "outputs": [
    {
     "data": {
      "text/plain": [
       "{2, 4, 5, 58, 6, 'hanuman'}"
      ]
     },
     "execution_count": 59,
     "metadata": {},
     "output_type": "execute_result"
    }
   ],
   "source": [
    "a={5,6,4,58,}\n",
    "b={2,'hanuman'}\n",
    "a.update(b)\n",
    "a"
   ]
  },
  {
   "cell_type": "code",
   "execution_count": 60,
   "id": "5606be94",
   "metadata": {},
   "outputs": [
    {
     "data": {
      "text/plain": [
       "{2, 3, 5, 6, 8, 12, 32, 66}"
      ]
     },
     "execution_count": 60,
     "metadata": {},
     "output_type": "execute_result"
    }
   ],
   "source": [
    "#union\n",
    "a={2,5,6,12,8}\n",
    "b={5,3,6,32,66}\n",
    "a|b"
   ]
  },
  {
   "cell_type": "code",
   "execution_count": 63,
   "id": "a2e8c3e0",
   "metadata": {},
   "outputs": [
    {
     "name": "stdout",
     "output_type": "stream",
     "text": [
      "2023-07-11 02:31:12.582624\n"
     ]
    }
   ],
   "source": [
    "from datetime import datetime\n",
    "print(datetime.today())"
   ]
  },
  {
   "cell_type": "code",
   "execution_count": null,
   "id": "d77cd81d",
   "metadata": {},
   "outputs": [],
   "source": [
    "a="
   ]
  }
 ],
 "metadata": {
  "kernelspec": {
   "display_name": "Python 3 (ipykernel)",
   "language": "python",
   "name": "python3"
  },
  "language_info": {
   "codemirror_mode": {
    "name": "ipython",
    "version": 3
   },
   "file_extension": ".py",
   "mimetype": "text/x-python",
   "name": "python",
   "nbconvert_exporter": "python",
   "pygments_lexer": "ipython3",
   "version": "3.11.4"
  }
 },
 "nbformat": 4,
 "nbformat_minor": 5
}
