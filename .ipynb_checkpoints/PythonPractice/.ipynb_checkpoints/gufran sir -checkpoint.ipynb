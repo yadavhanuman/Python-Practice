{
 "cells": [
  {
   "cell_type": "markdown",
   "id": "cdaefd65",
   "metadata": {},
   "source": [
    "# list manipulation"
   ]
  },
  {
   "cell_type": "code",
   "execution_count": 1,
   "id": "0f57a3f8",
   "metadata": {},
   "outputs": [
    {
     "name": "stdout",
     "output_type": "stream",
     "text": [
      "['patna', 'kanpur', 'allahabad']\n"
     ]
    }
   ],
   "source": [
    "#append\n",
    "nsti=['patna', 'kanpur']\n",
    "nsti.append('allahabad')\n",
    "print(nsti)"
   ]
  },
  {
   "cell_type": "code",
   "execution_count": 6,
   "id": "1a71d6ce",
   "metadata": {},
   "outputs": [
    {
     "name": "stdout",
     "output_type": "stream",
     "text": [
      "['kanpur', 'rampur', ['allahabad', 'delhi']]\n"
     ]
    }
   ],
   "source": [
    "city=['allahabad','delhi']\n",
    "city1=['kanpur','rampur']\n",
    "city1.append(city)\n",
    "print(city1)"
   ]
  },
  {
   "cell_type": "code",
   "execution_count": 7,
   "id": "80df4110",
   "metadata": {},
   "outputs": [
    {
     "name": "stdout",
     "output_type": "stream",
     "text": [
      "['red', 'blue', 'green', 5]\n"
     ]
    }
   ],
   "source": [
    "number=5\n",
    "color=['red','blue','green']\n",
    "color.append(number)\n",
    "print(color)"
   ]
  },
  {
   "cell_type": "code",
   "execution_count": 8,
   "id": "fe980311",
   "metadata": {},
   "outputs": [
    {
     "name": "stdout",
     "output_type": "stream",
     "text": [
      "[]\n"
     ]
    }
   ],
   "source": [
    "#CLEAR\n",
    "a=['ram','raj','rahul']\n",
    "a.clear()\n",
    "print(a)"
   ]
  },
  {
   "cell_type": "code",
   "execution_count": 10,
   "id": "fc4e7ad9",
   "metadata": {},
   "outputs": [
    {
     "name": "stdout",
     "output_type": "stream",
     "text": [
      "[]\n"
     ]
    }
   ],
   "source": [
    "number=[1,2,3,4,5]\n",
    "number.clear()\n",
    "print(number)"
   ]
  },
  {
   "cell_type": "code",
   "execution_count": 13,
   "id": "c01a18c6",
   "metadata": {},
   "outputs": [
    {
     "name": "stdout",
     "output_type": "stream",
     "text": [
      "2\n"
     ]
    }
   ],
   "source": [
    "#COUNT\n",
    "city1=['mumbai','delhi','chennai','mumbai']\n",
    "city2=city1.count('mumbai')\n",
    "print(city2)"
   ]
  },
  {
   "cell_type": "code",
   "execution_count": 20,
   "id": "edd8b91c",
   "metadata": {},
   "outputs": [
    {
     "name": "stdout",
     "output_type": "stream",
     "text": [
      "1\n"
     ]
    }
   ],
   "source": [
    "odd_number=[3,5,7,9]\n",
    "number=odd_number.count(5)\n",
    "print(number)\n"
   ]
  },
  {
   "cell_type": "code",
   "execution_count": null,
   "id": "36668af5",
   "metadata": {},
   "outputs": [],
   "source": []
  },
  {
   "cell_type": "code",
   "execution_count": 19,
   "id": "0ccb2641",
   "metadata": {
    "scrolled": true
   },
   "outputs": [
    {
     "name": "stdout",
     "output_type": "stream",
     "text": [
      "0\n"
     ]
    }
   ],
   "source": [
    "even_number=[2,4,6,8]\n",
    "number=even_number.count(5)\n",
    "print(number)"
   ]
  },
  {
   "cell_type": "code",
   "execution_count": 21,
   "id": "89af574a",
   "metadata": {},
   "outputs": [
    {
     "name": "stdout",
     "output_type": "stream",
     "text": [
      "['yellow', 'black', 'white', 'red']\n"
     ]
    }
   ],
   "source": [
    "#insert\n",
    "color=['black','white','red']\n",
    "color.insert(0,'yellow')\n",
    "print(color)"
   ]
  },
  {
   "cell_type": "code",
   "execution_count": 22,
   "id": "0da3a0ea",
   "metadata": {},
   "outputs": [
    {
     "name": "stdout",
     "output_type": "stream",
     "text": [
      "['apple', 'banana', 'orange', 'grapes']\n"
     ]
    }
   ],
   "source": [
    "fruits=['apple','banana','orange']\n",
    "fruits.insert(3,'grapes')\n",
    "print(fruits)"
   ]
  },
  {
   "cell_type": "code",
   "execution_count": 23,
   "id": "e59adc36",
   "metadata": {},
   "outputs": [
    {
     "name": "stdout",
     "output_type": "stream",
     "text": [
      "['london', 'agara', 'delhi']\n"
     ]
    }
   ],
   "source": [
    "city1=['london','agara']\n",
    "city1.insert(10,'delhi')\n",
    "print(city1)"
   ]
  },
  {
   "cell_type": "code",
   "execution_count": 24,
   "id": "2a27cc23",
   "metadata": {},
   "outputs": [
    {
     "name": "stdout",
     "output_type": "stream",
     "text": [
      "['red', 1, 4.5]\n"
     ]
    }
   ],
   "source": [
    "#pop\n",
    "color=['red',1,4.5,'india']\n",
    "color.pop()\n",
    "print(color)"
   ]
  },
  {
   "cell_type": "code",
   "execution_count": 28,
   "id": "9ca2f89d",
   "metadata": {},
   "outputs": [
    {
     "name": "stdout",
     "output_type": "stream",
     "text": [
      "['patna', 'kanpur']\n"
     ]
    }
   ],
   "source": [
    "#REMOVE\n",
    "city1=['patna','kanpur','allahabad']\n",
    "city1.remove('allahabad')\n",
    "print(city1)\n",
    "city1.remove\n",
    "\n",
    "\n"
   ]
  },
  {
   "cell_type": "code",
   "execution_count": 30,
   "id": "93859209",
   "metadata": {},
   "outputs": [
    {
     "name": "stdout",
     "output_type": "stream",
     "text": [
      "[5, (3+6j)]\n"
     ]
    }
   ],
   "source": [
    "num1=['hanuman',5,3+6j]\n",
    "num1.remove('hanuman')\n",
    "print(num1)"
   ]
  },
  {
   "cell_type": "code",
   "execution_count": 33,
   "id": "4de7aff7",
   "metadata": {},
   "outputs": [
    {
     "name": "stdout",
     "output_type": "stream",
     "text": [
      "[6, 8, 4, 5, 2]\n",
      "['c', 'b', 'a']\n"
     ]
    }
   ],
   "source": [
    "#reverse\n",
    "num1=[2,5,4,8,6]\n",
    "num1.reverse()\n",
    "print(num1)\n",
    "alpha=['a','b','c']\n",
    "alpha.reverse()\n",
    "print(alpha)"
   ]
  },
  {
   "cell_type": "code",
   "execution_count": 36,
   "id": "516549f8",
   "metadata": {},
   "outputs": [
    {
     "name": "stdout",
     "output_type": "stream",
     "text": [
      "[1, 2, 3, 5, 9]\n",
      "[9, 5, 3, 2, 1]\n"
     ]
    }
   ],
   "source": [
    "#SORT\n",
    "a=[1,2,5,3,9]\n",
    "a.sort()\n",
    "print(a)\n",
    "a.sort(reverse=True)\n",
    "print(a)\n"
   ]
  },
  {
   "cell_type": "code",
   "execution_count": 38,
   "id": "c226da1e",
   "metadata": {},
   "outputs": [
    {
     "name": "stdout",
     "output_type": "stream",
     "text": [
      "['vam', 'zahul']\n"
     ]
    }
   ],
   "source": [
    "a=['zahul','vam',]\n",
    "a.sort()\n",
    "print(a)"
   ]
  },
  {
   "cell_type": "code",
   "execution_count": 39,
   "id": "b6750f44",
   "metadata": {},
   "outputs": [
    {
     "name": "stdout",
     "output_type": "stream",
     "text": [
      "0b101\n"
     ]
    }
   ],
   "source": [
    "#inbuld Function\n",
    "num=bin(5)\n",
    "print(num)"
   ]
  }
 ],
 "metadata": {
  "kernelspec": {
   "display_name": "Python 3 (ipykernel)",
   "language": "python",
   "name": "python3"
  },
  "language_info": {
   "codemirror_mode": {
    "name": "ipython",
    "version": 3
   },
   "file_extension": ".py",
   "mimetype": "text/x-python",
   "name": "python",
   "nbconvert_exporter": "python",
   "pygments_lexer": "ipython3",
   "version": "3.11.4"
  }
 },
 "nbformat": 4,
 "nbformat_minor": 5
}
