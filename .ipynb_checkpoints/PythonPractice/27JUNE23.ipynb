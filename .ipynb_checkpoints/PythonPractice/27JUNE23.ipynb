{
 "cells": [
  {
   "cell_type": "code",
   "execution_count": 3,
   "id": "d766ca62",
   "metadata": {},
   "outputs": [
    {
     "name": "stdout",
     "output_type": "stream",
     "text": [
      "{'one': 1, 'four': 4, 'seven': 7}\n",
      "{}\n"
     ]
    }
   ],
   "source": [
    "#DICTIONARY\n",
    "text={'one':1,'four':4,'seven':7}\n",
    "print(text)\n",
    "text.clear()\n",
    "print(text)"
   ]
  },
  {
   "cell_type": "code",
   "execution_count": 6,
   "id": "6a00bbfd",
   "metadata": {},
   "outputs": [
    {
     "name": "stdout",
     "output_type": "stream",
     "text": [
      "{'apple': 100, 'orange': 50, 'banana': 30}\n",
      "{'apple': 100, 'orange': 50, 'banana': 30}\n",
      "{'apple': 100, 'orange': 50, 'banana': 'mango'}\n"
     ]
    }
   ],
   "source": [
    "#copy\n",
    "fruits={'apple':100,'orange':50,'banana':30,}\n",
    "print(fruits)\n",
    "f1=fruits.copy()\n",
    "print(fruits)\n",
    "f1['banana']='mango'\n",
    "print(f1)\n"
   ]
  },
  {
   "cell_type": "code",
   "execution_count": 8,
   "id": "8d335940",
   "metadata": {},
   "outputs": [
    {
     "name": "stdout",
     "output_type": "stream",
     "text": [
      "{'apple': 100, 'orange': 50, 'banana': 30}\n",
      "dict_keys(['apple', 'orange', 'banana'])\n"
     ]
    }
   ],
   "source": [
    "#keys\n",
    "fruits={'apple':100,'orange':50,'banana':30,}\n",
    "print(fruits)\n",
    "f1=fruits.keys()\n",
    "print(f1)\n",
    "\n",
    "\n"
   ]
  },
  {
   "cell_type": "code",
   "execution_count": 13,
   "id": "85c16f5b",
   "metadata": {},
   "outputs": [
    {
     "name": "stdout",
     "output_type": "stream",
     "text": [
      "200\n"
     ]
    }
   ],
   "source": [
    "value1={'color1':100,'color2':200,'color3':300}\n",
    "value2=value1.get('color2','Not available')\n",
    "print(value2)"
   ]
  },
  {
   "cell_type": "code",
   "execution_count": 21,
   "id": "40637b67",
   "metadata": {},
   "outputs": [
    {
     "name": "stdout",
     "output_type": "stream",
     "text": [
      "{'I': 1, 'II': 2, 'III': 3}\n",
      "dict_items([('I', 1), ('II', 2), ('III', 3)])\n",
      "{'I': 1, 'II': 2, 'III': 3, 'IV': 6}\n"
     ]
    }
   ],
   "source": [
    "#items\n",
    "romanNo={'I':1,'II':2,'III':3}\n",
    "print(romanNo)\n",
    "romanNo1=romanNo.items()\n",
    "print(romanNo1)\n",
    "romanNo['IV']=6\n",
    "print(romanNo)\n"
   ]
  },
  {
   "cell_type": "code",
   "execution_count": 23,
   "id": "5bd8c1e5",
   "metadata": {},
   "outputs": [
    {
     "name": "stdout",
     "output_type": "stream",
     "text": [
      "color value is: {'red': 10, 'yellow': 20, 'orange': 30}\n",
      "updated color is: {'red': 10, 'yellow': 20, 'orange': 30, 'violet': 50, 'black': 60}\n"
     ]
    }
   ],
   "source": [
    "#update\n",
    "color={'red':10,'yellow':20,'orange':30}\n",
    "print('color value is:',color)\n",
    "color.update(violet=50,black=60)\n",
    "print('updated color is:',color)"
   ]
  }
 ],
 "metadata": {
  "kernelspec": {
   "display_name": "Python 3 (ipykernel)",
   "language": "python",
   "name": "python3"
  },
  "language_info": {
   "codemirror_mode": {
    "name": "ipython",
    "version": 3
   },
   "file_extension": ".py",
   "mimetype": "text/x-python",
   "name": "python",
   "nbconvert_exporter": "python",
   "pygments_lexer": "ipython3",
   "version": "3.11.4"
  }
 },
 "nbformat": 4,
 "nbformat_minor": 5
}
