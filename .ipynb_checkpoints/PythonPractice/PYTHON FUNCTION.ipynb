{
 "cells": [
  {
   "cell_type": "code",
   "execution_count": 3,
   "id": "4a28c6ee",
   "metadata": {},
   "outputs": [],
   "source": [
    "def even(num):\n",
    "    \"\"\"\n",
    "    This function return odd even\n",
    "    \"\"\"\n",
    "    \n",
    "    if (num)==int:\n",
    "        if num%2==0:\n",
    "            return 'even'\n",
    "        else:\n",
    "            return 'odd'\n",
    "    else:\n",
    "        \"invalid\"\n",
    "   \n",
    "even(11)"
   ]
  },
  {
   "cell_type": "code",
   "execution_count": 4,
   "id": "2f8e36d5",
   "metadata": {},
   "outputs": [
    {
     "data": {
      "text/plain": [
       "13"
      ]
     },
     "execution_count": 4,
     "metadata": {},
     "output_type": "execute_result"
    }
   ],
   "source": [
    "f=lambda x,y:2*x+y\n",
    "f(4,5)"
   ]
  },
  {
   "cell_type": "code",
   "execution_count": 2,
   "id": "3fae4572",
   "metadata": {},
   "outputs": [
    {
     "name": "stdout",
     "output_type": "stream",
     "text": [
      "x inside: global\n",
      "x outside: global\n"
     ]
    }
   ],
   "source": [
    "x= 'global'\n",
    "def foo():\n",
    "    print('x inside:',x)\n",
    "foo()\n",
    "print('x outside:',x)\n",
    "    "
   ]
  },
  {
   "cell_type": "code",
   "execution_count": 4,
   "id": "0381ba55",
   "metadata": {},
   "outputs": [
    {
     "name": "stdout",
     "output_type": "stream",
     "text": [
      "Enter your number:12\n",
      "even\n"
     ]
    }
   ],
   "source": [
    "def eventest(x):\n",
    "    if x%2==0:\n",
    "        print('even')\n",
    "    else:\n",
    "        print('odd')\n",
    "n=int(input('Enter your number:'))\n",
    "eventest(n)"
   ]
  },
  {
   "cell_type": "code",
   "execution_count": 8,
   "id": "e90b871d",
   "metadata": {},
   "outputs": [
    {
     "name": "stdout",
     "output_type": "stream",
     "text": [
      "enter principle amount:1000\n",
      "enter your time:12\n",
      "enter your rate:5\n",
      "The simple intrest is : 600.0\n",
      "The total amount with intrest is : 1600.0\n"
     ]
    }
   ],
   "source": [
    "def si(p,t,r):\n",
    "    formula=(p*t*r)/100\n",
    "    print('The simple intrest is :',formula)\n",
    "    t=p+formula\n",
    "    print('The total amount with intrest is :',t)\n",
    "n1=float(input('enter principle amount:'))\n",
    "n2=float(input('enter your time:'))\n",
    "n3=float(input('enter your rate:'))\n",
    "si(n1,n2,n3)\n",
    "    "
   ]
  }
 ],
 "metadata": {
  "kernelspec": {
   "display_name": "Python 3 (ipykernel)",
   "language": "python",
   "name": "python3"
  },
  "language_info": {
   "codemirror_mode": {
    "name": "ipython",
    "version": 3
   },
   "file_extension": ".py",
   "mimetype": "text/x-python",
   "name": "python",
   "nbconvert_exporter": "python",
   "pygments_lexer": "ipython3",
   "version": "3.11.4"
  }
 },
 "nbformat": 4,
 "nbformat_minor": 5
}
