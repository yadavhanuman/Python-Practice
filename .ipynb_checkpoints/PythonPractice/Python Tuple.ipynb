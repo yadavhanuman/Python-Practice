{
 "cells": [
  {
   "cell_type": "markdown",
   "id": "554cd09e",
   "metadata": {},
   "source": [
    "# THIS IS LIST METHOD\n",
    "\n",
    "list=['rahul',[2,5,6],['red','black']]\n",
    "print(list)\n",
    "type()"
   ]
  },
  {
   "cell_type": "markdown",
   "id": "6baaddee",
   "metadata": {},
   "source": [
    "# Tuple()"
   ]
  },
  {
   "cell_type": "code",
   "execution_count": 1,
   "id": "f945df1e",
   "metadata": {},
   "outputs": [
    {
     "name": "stdout",
     "output_type": "stream",
     "text": [
      "('red', 'yellow', 'green', 'grey')\n",
      "(20, 'patna', 7, 45.45)\n",
      "('hanuman', 'hanuman', 'hanuman', 'hanuman', 'hanuman', 'hanuman', 'hanuman', 'hanuman', 'hanuman', 'hanuman')\n"
     ]
    },
    {
     "data": {
      "text/plain": [
       "tuple"
      ]
     },
     "execution_count": 1,
     "metadata": {},
     "output_type": "execute_result"
    }
   ],
   "source": [
    "col=('red','yellow','green','grey')\n",
    "print(col)\n",
    "type(col)\n",
    "\n",
    "value1=(20,'patna',3+4,45.45) \n",
    "print(value1)\n",
    "type(value1)\n",
    "b2=('hanuman',)*10\n",
    "print(b2)\n",
    "type(b2)\n",
    "\n",
    "\n",
    "\n"
   ]
  },
  {
   "cell_type": "code",
   "execution_count": 31,
   "id": "b7036c4e",
   "metadata": {},
   "outputs": [
    {
     "name": "stdout",
     "output_type": "stream",
     "text": [
      "('red', 'yellow', 'green', 'green')\n"
     ]
    },
    {
     "data": {
      "text/plain": [
       "tuple"
      ]
     },
     "execution_count": 31,
     "metadata": {},
     "output_type": "execute_result"
    }
   ],
   "source": [
    "col1='red','yellow','green','green'\n",
    "print(col1)\n",
    "type(col1)"
   ]
  },
  {
   "cell_type": "markdown",
   "id": "b08411c6",
   "metadata": {},
   "source": [
    "# Set96*+"
   ]
  },
  {
   "cell_type": "code",
   "execution_count": 30,
   "id": "ec142d42",
   "metadata": {},
   "outputs": [
    {
     "name": "stdout",
     "output_type": "stream",
     "text": [
      "{'kanpur', 'prayagraj', 'patna'}\n"
     ]
    },
    {
     "data": {
      "text/plain": [
       "set"
      ]
     },
     "execution_count": 30,
     "metadata": {},
     "output_type": "execute_result"
    }
   ],
   "source": [
    "set={'prayagraj','kanpur','patna','patna'}\n",
    "print(set)\n",
    "type(set)"
   ]
  },
  {
   "cell_type": "markdown",
   "id": "955f2337",
   "metadata": {},
   "source": [
    "# DICT (matlab dictionary)"
   ]
  },
  {
   "cell_type": "code",
   "execution_count": 32,
   "id": "57b5d178",
   "metadata": {},
   "outputs": [
    {
     "name": "stdout",
     "output_type": "stream",
     "text": [
      "{'COLOR1': 10, 'COLOR2': 20, 'COLOR3': 30}\n"
     ]
    },
    {
     "data": {
      "text/plain": [
       "dict"
      ]
     },
     "execution_count": 32,
     "metadata": {},
     "output_type": "execute_result"
    }
   ],
   "source": [
    "D1={'COLOR1':10,\n",
    "    'COLOR2':20,\n",
    "    'COLOR3':30,\n",
    "   }\n",
    "print(D1)\n",
    "type(D1)"
   ]
  },
  {
   "cell_type": "code",
   "execution_count": null,
   "id": "faa652fb",
   "metadata": {},
   "outputs": [],
   "source": []
  },
  {
   "cell_type": "code",
   "execution_count": 65,
   "id": "e89ded46",
   "metadata": {},
   "outputs": [
    {
     "name": "stdout",
     "output_type": "stream",
     "text": [
      "('a', 'b', 'c')\n"
     ]
    }
   ],
   "source": [
    "# slice\n",
    "\n",
    "a = (\"a\", \"b\", \"c\", \"d\", \"e\", \"f\", \"g\", \"h\")\n",
    "x=slice(3)\n",
    "print(a[x])"
   ]
  },
  {
   "cell_type": "code",
   "execution_count": 66,
   "id": "5fb77a36",
   "metadata": {},
   "outputs": [
    {
     "name": "stdout",
     "output_type": "stream",
     "text": [
      "banana\n"
     ]
    }
   ],
   "source": [
    "#pop\n",
    "\n",
    "fruits = ['apple', 'banana', 'cherry']\n",
    "\n",
    "print(fruits.pop(1))"
   ]
  },
  {
   "cell_type": "code",
   "execution_count": null,
   "id": "5c813962",
   "metadata": {},
   "outputs": [],
   "source": []
  }
 ],
 "metadata": {
  "kernelspec": {
   "display_name": "Python 3 (ipykernel)",
   "language": "python",
   "name": "python3"
  },
  "language_info": {
   "codemirror_mode": {
    "name": "ipython",
    "version": 3
   },
   "file_extension": ".py",
   "mimetype": "text/x-python",
   "name": "python",
   "nbconvert_exporter": "python",
   "pygments_lexer": "ipython3",
   "version": "3.11.4"
  }
 },
 "nbformat": 4,
 "nbformat_minor": 5
}
