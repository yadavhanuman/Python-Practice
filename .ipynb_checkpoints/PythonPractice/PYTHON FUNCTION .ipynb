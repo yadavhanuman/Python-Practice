{
 "cells": [
  {
   "cell_type": "code",
   "execution_count": 2,
   "id": "9261755a",
   "metadata": {},
   "outputs": [
    {
     "name": "stdout",
     "output_type": "stream",
     "text": [
      "you can not vote\n",
      "you can vote\n",
      "you can not vote\n",
      "you can not vote\n",
      "you can vote\n",
      "you can vote\n",
      "you can not vote\n"
     ]
    }
   ],
   "source": [
    "age=[5,26,8,7,53,52,5]\n",
    "def voter(a):\n",
    "    if a>=18:\n",
    "        print('you can vote')\n",
    "    else:\n",
    "        print('you can not vote')\n",
    "            \n",
    "voters=list(filter(voter,age))"
   ]
  },
  {
   "cell_type": "code",
   "execution_count": 4,
   "id": "6bd1e277",
   "metadata": {},
   "outputs": [
    {
     "name": "stdout",
     "output_type": "stream",
     "text": [
      "allow\n",
      "allow\n",
      "leave\n",
      "leave\n"
     ]
    }
   ],
   "source": [
    "nsti=['ALD','ALD','MUM','KOL']\n",
    "def hanu(a):\n",
    "    if a=='ALD' or a=='PAT' or a=='KNP':\n",
    "        print('allow')\n",
    "    else:\n",
    "        print('leave')\n",
    "allowed = filter(hanu,nsti)\n",
    "for x in allowed:print(x)\n",
    "\n",
    "    "
   ]
  },
  {
   "cell_type": "code",
   "execution_count": 32,
   "id": "7d0ba6b7",
   "metadata": {},
   "outputs": [
    {
     "name": "stdout",
     "output_type": "stream",
     "text": [
      "78\n",
      "False\n",
      "85\n",
      "False\n",
      "65\n",
      "False\n"
     ]
    }
   ],
   "source": [
    "marks=[78,8,85,39,65,5]\n",
    "def firstclass(a):\n",
    "    if a>=60 and a<=100:\n",
    "        return True\n",
    "    else:\n",
    "        print(\"False\")\n",
    "        return False\n",
    "firstc= filter(firstclass,marks)\n",
    "\n",
    "for x in firstc:print(x)"
   ]
  },
  {
   "cell_type": "code",
   "execution_count": 2,
   "id": "c4946695",
   "metadata": {},
   "outputs": [
    {
     "name": "stdout",
     "output_type": "stream",
     "text": [
      "10\n",
      "90\n",
      "130\n",
      "10\n",
      "90\n",
      "10\n"
     ]
    }
   ],
   "source": [
    "a=[5,6,45,2,65,52,6,5,45,6,8,5]\n",
    "odd=list(filter(lambda b:b%2!=0, a))\n",
    "double = list(map(lambda c:c*2,odd))\n",
    "\n",
    "for x in double:print(x)\n"
   ]
  },
  {
   "cell_type": "code",
   "execution_count": 11,
   "id": "49560d6a",
   "metadata": {},
   "outputs": [
    {
     "name": "stdout",
     "output_type": "stream",
     "text": [
      "you can vote\n",
      "you can vote\n",
      "you can vote\n",
      "you can vote\n",
      "you can vote\n",
      "[None, None, None, None, None]\n"
     ]
    }
   ],
   "source": [
    "age=[5,14,26,19,65,1,65,19,6]\n",
    "voter=filter(lambda a:a>=18,age)\n",
    "remarks =list(map(lambda b : print('you can vote'),voter))\n",
    "print(remarks)\n"
   ]
  },
  {
   "cell_type": "code",
   "execution_count": 5,
   "id": "f09e86a6",
   "metadata": {},
   "outputs": [
    {
     "name": "stdout",
     "output_type": "stream",
     "text": [
      "(1, 4, 9, 36)\n"
     ]
    }
   ],
   "source": [
    "def sq (num1):\n",
    "    return num1*num1\n",
    "number=1,2,3,6\n",
    "result =tuple(map(sq,number))\n",
    "print(result)"
   ]
  },
  {
   "cell_type": "code",
   "execution_count": 12,
   "id": "34e85f5e",
   "metadata": {},
   "outputs": [
    {
     "name": "stdout",
     "output_type": "stream",
     "text": [
      "file is ready\n"
     ]
    }
   ],
   "source": [
    "a=open(\"hanuman.text\",\"x\")\n",
    "print(\"file is ready\")"
   ]
  },
  {
   "cell_type": "code",
   "execution_count": 18,
   "id": "58217afc",
   "metadata": {},
   "outputs": [
    {
     "name": "stdout",
     "output_type": "stream",
     "text": [
      "data is write successfully\n"
     ]
    }
   ],
   "source": [
    "a=open(\"hanuman.text\",\"w\")\n",
    "a.write(\"file is ready ,sdejgfvjudcgtjhtvhrd jgcrhctrvh fdgvrhfdtrvhfd bvrbfdgt0 \")\n",
    "\n",
    "print(\"data is write successfully\")"
   ]
  },
  {
   "cell_type": "code",
   "execution_count": 21,
   "id": "7739d56f",
   "metadata": {},
   "outputs": [
    {
     "name": "stdout",
     "output_type": "stream",
     "text": [
      "file is ready ,sdejgfvjudcgtjh\n"
     ]
    }
   ],
   "source": [
    "a=open(\"hanuman.text\",\"r\")\n",
    "print(a.read(30))"
   ]
  },
  {
   "cell_type": "code",
   "execution_count": null,
   "id": "8b5beec7",
   "metadata": {},
   "outputs": [],
   "source": []
  },
  {
   "cell_type": "code",
   "execution_count": null,
   "id": "2ea8284a",
   "metadata": {},
   "outputs": [],
   "source": []
  },
  {
   "cell_type": "code",
   "execution_count": null,
   "id": "e8c82556",
   "metadata": {},
   "outputs": [],
   "source": []
  },
  {
   "cell_type": "code",
   "execution_count": null,
   "id": "154aeff3",
   "metadata": {},
   "outputs": [],
   "source": []
  }
 ],
 "metadata": {
  "kernelspec": {
   "display_name": "Python 3 (ipykernel)",
   "language": "python",
   "name": "python3"
  },
  "language_info": {
   "codemirror_mode": {
    "name": "ipython",
    "version": 3
   },
   "file_extension": ".py",
   "mimetype": "text/x-python",
   "name": "python",
   "nbconvert_exporter": "python",
   "pygments_lexer": "ipython3",
   "version": "3.11.4"
  }
 },
 "nbformat": 4,
 "nbformat_minor": 5
}
