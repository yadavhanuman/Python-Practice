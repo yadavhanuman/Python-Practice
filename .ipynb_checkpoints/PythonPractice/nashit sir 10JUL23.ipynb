{
 "cells": [
  {
   "cell_type": "code",
   "execution_count": 1,
   "id": "28eea530",
   "metadata": {},
   "outputs": [
    {
     "name": "stdout",
     "output_type": "stream",
     "text": [
      "8.15\n"
     ]
    }
   ],
   "source": [
    "a= max(-8.2,8.1,8.15)\n",
    "print(a)"
   ]
  },
  {
   "cell_type": "code",
   "execution_count": 2,
   "id": "898ec066",
   "metadata": {},
   "outputs": [
    {
     "data": {
      "text/plain": [
       "9"
      ]
     },
     "execution_count": 2,
     "metadata": {},
     "output_type": "execute_result"
    }
   ],
   "source": [
    "import math as m\n",
    "a=m.ceil(8.1)\n",
    "a"
   ]
  },
  {
   "cell_type": "code",
   "execution_count": 3,
   "id": "fafe25b2",
   "metadata": {},
   "outputs": [
    {
     "data": {
      "text/plain": [
       "25"
      ]
     },
     "execution_count": 3,
     "metadata": {},
     "output_type": "execute_result"
    }
   ],
   "source": [
    "b= m.floor(25.4)\n",
    "b"
   ]
  },
  {
   "cell_type": "code",
   "execution_count": 7,
   "id": "04bb7394",
   "metadata": {},
   "outputs": [
    {
     "name": "stdout",
     "output_type": "stream",
     "text": [
      "4.6\n"
     ]
    }
   ],
   "source": [
    "print(round(4.5666,1))"
   ]
  },
  {
   "cell_type": "code",
   "execution_count": 9,
   "id": "442a84c1",
   "metadata": {},
   "outputs": [
    {
     "name": "stdout",
     "output_type": "stream",
     "text": [
      "112\n"
     ]
    }
   ],
   "source": [
    "number = 111.8\n",
    "rounded_number = round(number)\n",
    "print(rounded_number)"
   ]
  },
  {
   "cell_type": "code",
   "execution_count": 13,
   "id": "477a9302",
   "metadata": {},
   "outputs": [
    {
     "data": {
      "text/plain": [
       "1"
      ]
     },
     "execution_count": 13,
     "metadata": {},
     "output_type": "execute_result"
    }
   ],
   "source": [
    "int(m.sin(m.radians(90)))"
   ]
  },
  {
   "cell_type": "code",
   "execution_count": 15,
   "id": "ec496be0",
   "metadata": {},
   "outputs": [
    {
     "data": {
      "text/plain": [
       "10"
      ]
     },
     "execution_count": 15,
     "metadata": {},
     "output_type": "execute_result"
    }
   ],
   "source": [
    "m.gcd(10,100)"
   ]
  },
  {
   "cell_type": "code",
   "execution_count": 17,
   "id": "2059f58c",
   "metadata": {},
   "outputs": [
    {
     "data": {
      "text/plain": [
       "100"
      ]
     },
     "execution_count": 17,
     "metadata": {},
     "output_type": "execute_result"
    }
   ],
   "source": [
    "m.lcm(10,100)"
   ]
  },
  {
   "cell_type": "code",
   "execution_count": 20,
   "id": "234caa65",
   "metadata": {},
   "outputs": [
    {
     "data": {
      "text/plain": [
       "False"
      ]
     },
     "execution_count": 20,
     "metadata": {},
     "output_type": "execute_result"
    }
   ],
   "source": [
    "m.isfinite(3.14e5654845754)"
   ]
  },
  {
   "cell_type": "code",
   "execution_count": 23,
   "id": "4632c919",
   "metadata": {},
   "outputs": [
    {
     "data": {
      "text/plain": [
       "True"
      ]
     },
     "execution_count": 23,
     "metadata": {},
     "output_type": "execute_result"
    }
   ],
   "source": [
    "m.isfinite(3.5)"
   ]
  },
  {
   "cell_type": "code",
   "execution_count": 24,
   "id": "ea58d7dc",
   "metadata": {},
   "outputs": [
    {
     "data": {
      "text/plain": [
       "False"
      ]
     },
     "execution_count": 24,
     "metadata": {},
     "output_type": "execute_result"
    }
   ],
   "source": [
    "m.isinf(3.5)"
   ]
  },
  {
   "cell_type": "code",
   "execution_count": 32,
   "id": "718bb69c",
   "metadata": {},
   "outputs": [
    {
     "data": {
      "text/plain": [
       "24"
      ]
     },
     "execution_count": 32,
     "metadata": {},
     "output_type": "execute_result"
    }
   ],
   "source": [
    "import random\n",
    "random.randrange(1,100)"
   ]
  },
  {
   "cell_type": "code",
   "execution_count": 45,
   "id": "3ec66e61",
   "metadata": {},
   "outputs": [
    {
     "data": {
      "text/plain": [
       "-74"
      ]
     },
     "execution_count": 45,
     "metadata": {},
     "output_type": "execute_result"
    }
   ],
   "source": [
    "random.randrange(-100,10)"
   ]
  },
  {
   "cell_type": "code",
   "execution_count": 48,
   "id": "420bb792",
   "metadata": {},
   "outputs": [
    {
     "name": "stdout",
     "output_type": "stream",
     "text": [
      "hello \n",
      "\n",
      " patna\n"
     ]
    }
   ],
   "source": [
    "#string\n",
    "print('hello \\n\\n patna')"
   ]
  },
  {
   "cell_type": "code",
   "execution_count": 66,
   "id": "4aa690ae",
   "metadata": {},
   "outputs": [
    {
     "name": "stdout",
     "output_type": "stream",
     "text": [
      "hello \t patna\n"
     ]
    }
   ],
   "source": [
    "print('hello \\t patna')"
   ]
  },
  {
   "cell_type": "code",
   "execution_count": 110,
   "id": "79caa677",
   "metadata": {},
   "outputs": [
    {
     "name": "stdout",
     "output_type": "stream",
     "text": [
      "0 \t\t0 \t\t0 \t\t0 \t\t0 \t\t0 \t\t\n",
      "\n",
      "1 \t\t1 \t\t1 \t\t1 \t\t1 \t\t1 \t\t\n",
      "\n",
      "2 \t\t2 \t\t2 \t\t2 \t\t2 \t\t2 \t\t\n",
      "\n",
      "3 \t\t3 \t\t3 \t\t3 \t\t3 \t\t3 \t\t\n",
      "\n",
      "4 \t\t4 \t\t4 \t\t4 \t\t4 \t\t4 \t\t\n",
      "\n",
      "5 \t\t5 \t\t5 \t\t5 \t\t5 \t\t5 \t\t\n",
      "\n"
     ]
    }
   ],
   "source": [
    "for i in range(6):\n",
    "    for j in range(6):\n",
    "            print(i,end=' \\t\\t')\n",
    "    print(\"\\n\")\n"
   ]
  },
  {
   "cell_type": "code",
   "execution_count": 94,
   "id": "4798a3f1",
   "metadata": {},
   "outputs": [
    {
     "name": "stdout",
     "output_type": "stream",
     "text": [
      "00000\n",
      "11111\n",
      "22222\n",
      "33333\n",
      "44444\n",
      "55555\n"
     ]
    }
   ],
   "source": [
    "for i in range(6):\n",
    "    print(str(i) *5)\n",
    "    type(i)\n",
    "    "
   ]
  },
  {
   "cell_type": "code",
   "execution_count": 116,
   "id": "d124faf9",
   "metadata": {},
   "outputs": [
    {
     "name": "stdout",
     "output_type": "stream",
     "text": [
      "1\t2\t3\t4\t5\t6\t7\t8\t9\t10\t \n",
      "\n",
      "2\t4\t6\t8\t10\t12\t14\t16\t18\t20\t \n",
      "\n",
      "3\t6\t9\t12\t15\t18\t21\t24\t27\t30\t \n",
      "\n",
      "4\t8\t12\t16\t20\t24\t28\t32\t36\t40\t \n",
      "\n"
     ]
    }
   ],
   "source": [
    "for i in range(1,5):\n",
    "    for k in range(1,11):\n",
    "        x=i*k\n",
    "        print(x,end=\"\\t\")\n",
    "    print(\" \\n\")"
   ]
  },
  {
   "cell_type": "code",
   "execution_count": 117,
   "id": "d4918746",
   "metadata": {},
   "outputs": [
    {
     "ename": "AttributeError",
     "evalue": "'str' object has no attribute 'len'",
     "output_type": "error",
     "traceback": [
      "\u001b[1;31m---------------------------------------------------------------------------\u001b[0m",
      "\u001b[1;31mAttributeError\u001b[0m                            Traceback (most recent call last)",
      "Cell \u001b[1;32mIn[117], line 2\u001b[0m\n\u001b[0;32m      1\u001b[0m a\u001b[38;5;241m=\u001b[39m\u001b[38;5;124m'\u001b[39m\u001b[38;5;124mpatna\u001b[39m\u001b[38;5;124m'\u001b[39m\n\u001b[1;32m----> 2\u001b[0m \u001b[43ma\u001b[49m\u001b[38;5;241;43m.\u001b[39;49m\u001b[43mlen\u001b[49m()\n",
      "\u001b[1;31mAttributeError\u001b[0m: 'str' object has no attribute 'len'"
     ]
    }
   ],
   "source": [
    "a='patna'\n",
    "a.len()\n",
    "print)"
   ]
  },
  {
   "cell_type": "code",
   "execution_count": 81,
   "id": "2e900b96",
   "metadata": {},
   "outputs": [
    {
     "name": "stdout",
     "output_type": "stream",
     "text": [
      "enter your number5\n"
     ]
    },
    {
     "data": {
      "text/plain": [
       "str"
      ]
     },
     "execution_count": 81,
     "metadata": {},
     "output_type": "execute_result"
    }
   ],
   "source": [
    "text=input(\"enter your number\")\n",
    "type(text)"
   ]
  }
 ],
 "metadata": {
  "kernelspec": {
   "display_name": "Python 3 (ipykernel)",
   "language": "python",
   "name": "python3"
  },
  "language_info": {
   "codemirror_mode": {
    "name": "ipython",
    "version": 3
   },
   "file_extension": ".py",
   "mimetype": "text/x-python",
   "name": "python",
   "nbconvert_exporter": "python",
   "pygments_lexer": "ipython3",
   "version": "3.11.4"
  }
 },
 "nbformat": 4,
 "nbformat_minor": 5
}
