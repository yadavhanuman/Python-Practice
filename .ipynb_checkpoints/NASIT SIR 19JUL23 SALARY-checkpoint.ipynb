{
 "cells": [
  {
   "cell_type": "code",
   "execution_count": 25,
   "id": "9651682a",
   "metadata": {},
   "outputs": [],
   "source": [
    "class ADIT:\n",
    "    def __init__(self,name,age,location):\n",
    "        self.name=name\n",
    "        self.age=age\n",
    "        self.location=location\n",
    "        self.stipend=3000\n",
    "        self.course=['HTML','CSS','PHP']\n",
    "        self.email=name+'.'+location+'@gmail.com'\n",
    "        self.tax=3000\n",
    "        \n",
    "        def abc(self):\n",
    "            return '{} {}'.format( self.name,self.age)\n",
    "        def increment(self):\n",
    "            self.stipend=self.stipend *0.14 +self.stipend"
   ]
  },
  {
   "cell_type": "code",
   "execution_count": 13,
   "id": "5c9f8183",
   "metadata": {},
   "outputs": [],
   "source": [
    "Smriti=ADIT('Ambika',18,'Allahabad')\n",
    "a2=ADIT('Hanuman',25,'Allahabad')\n",
    "a3=ADIT('sakshi',19,'Allahabad')\n",
    "a4=ADIT('Vinod',25,'Allahabad')\n",
    "a5=ADIT('Bhawan',25,'Dehradun')\n"
   ]
  },
  {
   "cell_type": "code",
   "execution_count": 28,
   "id": "eece998d",
   "metadata": {},
   "outputs": [
    {
     "data": {
      "text/plain": [
       "18"
      ]
     },
     "execution_count": 28,
     "metadata": {},
     "output_type": "execute_result"
    }
   ],
   "source": [
    "Smriti.age\n"
   ]
  },
  {
   "cell_type": "code",
   "execution_count": 29,
   "id": "2ef18f76",
   "metadata": {},
   "outputs": [
    {
     "data": {
      "text/plain": [
       "['HTML', 'CSS', 'PHP']"
      ]
     },
     "execution_count": 29,
     "metadata": {},
     "output_type": "execute_result"
    }
   ],
   "source": [
    "Smriti.stipend"
   ]
  }
 ],
 "metadata": {
  "kernelspec": {
   "display_name": "Python 3 (ipykernel)",
   "language": "python",
   "name": "python3"
  },
  "language_info": {
   "codemirror_mode": {
    "name": "ipython",
    "version": 3
   },
   "file_extension": ".py",
   "mimetype": "text/x-python",
   "name": "python",
   "nbconvert_exporter": "python",
   "pygments_lexer": "ipython3",
   "version": "3.11.4"
  }
 },
 "nbformat": 4,
 "nbformat_minor": 5
}
