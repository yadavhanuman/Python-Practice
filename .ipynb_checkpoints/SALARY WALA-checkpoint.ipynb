{
 "cells": [
  {
   "cell_type": "code",
   "execution_count": 1,
   "id": "7b57e87f",
   "metadata": {},
   "outputs": [],
   "source": [
    "class patna:\n",
    "    def __init__(self,name,age,salary):\n",
    "        self.name = name\n",
    "        self.age = age\n",
    "        self.salary = salary\n",
    "        \n",
    "    def increment(self):#method\n",
    "        self.salary=int(self.salary* 0.14+self.salary)\n",
    "            \n",
    "        "
   ]
  },
  {
   "cell_type": "code",
   "execution_count": 2,
   "id": "1ae9bac1",
   "metadata": {},
   "outputs": [],
   "source": [
    "a1= patna('hanuman',15,40000)"
   ]
  },
  {
   "cell_type": "code",
   "execution_count": 3,
   "id": "6787480f",
   "metadata": {},
   "outputs": [],
   "source": [
    "a2= patna('sakshi',16,20000)"
   ]
  },
  {
   "cell_type": "code",
   "execution_count": 5,
   "id": "b124a3e4",
   "metadata": {},
   "outputs": [],
   "source": [
    "a3= patna('saksham',16,20000)"
   ]
  },
  {
   "cell_type": "code",
   "execution_count": 6,
   "id": "5aba0de6",
   "metadata": {},
   "outputs": [],
   "source": [
    "a4= patna('sakshi',16,20000)"
   ]
  },
  {
   "cell_type": "code",
   "execution_count": 7,
   "id": "96cc0f43",
   "metadata": {},
   "outputs": [],
   "source": [
    "a4.increment()"
   ]
  },
  {
   "cell_type": "code",
   "execution_count": 9,
   "id": "65d7799d",
   "metadata": {},
   "outputs": [
    {
     "data": {
      "text/plain": [
       "22800"
      ]
     },
     "execution_count": 9,
     "metadata": {},
     "output_type": "execute_result"
    }
   ],
   "source": [
    "a4.salary"
   ]
  },
  {
   "cell_type": "code",
   "execution_count": null,
   "id": "2bf674ba",
   "metadata": {},
   "outputs": [],
   "source": []
  },
  {
   "cell_type": "code",
   "execution_count": null,
   "id": "b7d14c71",
   "metadata": {},
   "outputs": [],
   "source": []
  }
 ],
 "metadata": {
  "kernelspec": {
   "display_name": "Python 3 (ipykernel)",
   "language": "python",
   "name": "python3"
  },
  "language_info": {
   "codemirror_mode": {
    "name": "ipython",
    "version": 3
   },
   "file_extension": ".py",
   "mimetype": "text/x-python",
   "name": "python",
   "nbconvert_exporter": "python",
   "pygments_lexer": "ipython3",
   "version": "3.11.4"
  }
 },
 "nbformat": 4,
 "nbformat_minor": 5
}
