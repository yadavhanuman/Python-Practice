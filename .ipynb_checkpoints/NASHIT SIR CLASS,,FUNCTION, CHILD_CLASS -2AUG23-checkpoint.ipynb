{
 "cells": [
  {
   "cell_type": "code",
   "execution_count": 8,
   "id": "5e62e42e",
   "metadata": {},
   "outputs": [
    {
     "name": "stdout",
     "output_type": "stream",
     "text": [
      "a@gmail.com\n"
     ]
    }
   ],
   "source": [
    "class students:\n",
    "    def __init__(self, name, age, mail):\n",
    "        self.name=name\n",
    "        self.age=age\n",
    "        self.email=mail\n",
    "st1=students('ashish',19,'a@gmail.com')\n",
    "print(st1.email)"
   ]
  },
  {
   "cell_type": "code",
   "execution_count": 7,
   "id": "e5aca8ef",
   "metadata": {},
   "outputs": [],
   "source": [
    "class students:\n",
    "    def __init__(self,first,age,city,stipend):\n",
    "        self.first=first\n",
    "        self.age=age\n",
    "        self.city=city\n",
    "        self.email=first+city+'@gmail.com'\n",
    "        self.stipend=stipend\n",
    "        self.increment = 0.5*stipend+stipend\n",
    "    \n",
    "    def fullname(self):\n",
    "        return '{} {}'.format(self.first,self.last)\n",
    "    \n",
    "    def stip(self):\n",
    "        return 2*self.stipend\n",
    "    \n",
    "        \n",
    "st1=students('hanuman',18,'ambedkarnagar',12000)\n",
    "st2=students('rahul',16,'patna',16000)"
   ]
  },
  {
   "cell_type": "code",
   "execution_count": 8,
   "id": "85225287",
   "metadata": {},
   "outputs": [
    {
     "data": {
      "text/plain": [
       "'rahulpatna@gmail.com'"
      ]
     },
     "execution_count": 8,
     "metadata": {},
     "output_type": "execute_result"
    }
   ],
   "source": [
    "st2.email"
   ]
  },
  {
   "cell_type": "code",
   "execution_count": 9,
   "id": "60497754",
   "metadata": {},
   "outputs": [
    {
     "data": {
      "text/plain": [
       "24000"
      ]
     },
     "execution_count": 9,
     "metadata": {},
     "output_type": "execute_result"
    }
   ],
   "source": [
    "students.stip(st1)"
   ]
  },
  {
   "cell_type": "code",
   "execution_count": 26,
   "id": "0be3999d",
   "metadata": {},
   "outputs": [],
   "source": [
    "class NSTI:\n",
    "    def __init__(self,city):\n",
    "        self.city=city \n",
    "    def hello(self):\n",
    "        return 'welcome to {}'.format(self.city)\n",
    "    \n",
    "class CITS(NSTI):\n",
    "    def __init__(self,dept,city):\n",
    "        self.dept=dept\n",
    "        self.city=city\n",
    "    def wel(self):\n",
    "        return 'you age asmitted to {}'.format(self.dept)\n",
    "    "
   ]
  },
  {
   "cell_type": "code",
   "execution_count": 27,
   "id": "4ce872ed",
   "metadata": {},
   "outputs": [
    {
     "data": {
      "text/plain": [
       "'welcome to patna'"
      ]
     },
     "execution_count": 27,
     "metadata": {},
     "output_type": "execute_result"
    }
   ],
   "source": [
    "n1=NSTI('patna')\n",
    "n1.hello()"
   ]
  },
  {
   "cell_type": "code",
   "execution_count": 23,
   "id": "98cb962d",
   "metadata": {},
   "outputs": [],
   "source": [
    "c1=CITS('COPA','patna')"
   ]
  },
  {
   "cell_type": "code",
   "execution_count": 24,
   "id": "b416535c",
   "metadata": {},
   "outputs": [
    {
     "data": {
      "text/plain": [
       "'you age asmitted to COPA'"
      ]
     },
     "execution_count": 24,
     "metadata": {},
     "output_type": "execute_result"
    }
   ],
   "source": [
    "c1.wel()"
   ]
  },
  {
   "cell_type": "code",
   "execution_count": 28,
   "id": "49a8dc56",
   "metadata": {},
   "outputs": [
    {
     "data": {
      "text/plain": [
       "'welcometo patna'"
      ]
     },
     "execution_count": 28,
     "metadata": {},
     "output_type": "execute_result"
    }
   ],
   "source": [
    "c1.hello()"
   ]
  },
  {
   "cell_type": "code",
   "execution_count": 32,
   "id": "7582bad6",
   "metadata": {},
   "outputs": [],
   "source": [
    "class ADIT:\n",
    "    def subj(self):\n",
    "        print('[HTML,CSS,JS,PHP]')\n",
    "    def loc(self):\n",
    "        print('[ALD,KNP,DDN,PAT]')\n",
    "        \n",
    "class COPA:\n",
    "    def subj(self):\n",
    "        print('[HTML,CSS,Network]')\n",
    "    def loc(self):\n",
    "        print('[MUM,HYD,NOI]')\n",
    "    \n",
    "stu=ADIT()\n",
    "stu1=COPA()"
   ]
  },
  {
   "cell_type": "code",
   "execution_count": 35,
   "id": "8dd9b5f3",
   "metadata": {},
   "outputs": [
    {
     "name": "stdout",
     "output_type": "stream",
     "text": [
      "[HTML,CSS,JS,PHP]\n",
      "[HTML,CSS,Network]\n"
     ]
    }
   ],
   "source": [
    "stu.subj()\n",
    "stu1.subj()"
   ]
  },
  {
   "cell_type": "code",
   "execution_count": null,
   "id": "a7c5a327",
   "metadata": {},
   "outputs": [],
   "source": []
  },
  {
   "cell_type": "code",
   "execution_count": null,
   "id": "71c6ff12",
   "metadata": {},
   "outputs": [],
   "source": []
  },
  {
   "cell_type": "code",
   "execution_count": null,
   "id": "19c6d503",
   "metadata": {},
   "outputs": [],
   "source": []
  },
  {
   "cell_type": "code",
   "execution_count": null,
   "id": "9989466d",
   "metadata": {},
   "outputs": [],
   "source": []
  },
  {
   "cell_type": "code",
   "execution_count": null,
   "id": "f7ace4a7",
   "metadata": {},
   "outputs": [],
   "source": []
  }
 ],
 "metadata": {
  "kernelspec": {
   "display_name": "Python 3 (ipykernel)",
   "language": "python",
   "name": "python3"
  },
  "language_info": {
   "codemirror_mode": {
    "name": "ipython",
    "version": 3
   },
   "file_extension": ".py",
   "mimetype": "text/x-python",
   "name": "python",
   "nbconvert_exporter": "python",
   "pygments_lexer": "ipython3",
   "version": "3.11.4"
  }
 },
 "nbformat": 4,
 "nbformat_minor": 5
}
