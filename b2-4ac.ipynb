{
 "cells": [
  {
   "cell_type": "code",
   "execution_count": 1,
   "id": "455cca83",
   "metadata": {},
   "outputs": [],
   "source": [
    "import math\n",
    "a=int(input('enter your number:'))\n",
    "b=int(input('enter your number:'))\n",
    "\n",
    "\n",
    "\n",
    "\n",
    "d = b**2 - (4*a*c)\n",
    "if d>=0:\n",
    "    x1=-b+math.sqrt(d)/2*a\n",
    "    x2=-b-math.sqrt(d)/2*a\n",
    "    print('root:',x1)\n",
    "    print('root:',x2)\n",
    "    \n",
    "else:\n",
    "    print('no')"
   ]
  }
 ],
 "metadata": {
  "kernelspec": {
   "display_name": "Python 3 (ipykernel)",
   "language": "python",
   "name": "python3"
  },
  "language_info": {
   "codemirror_mode": {
    "name": "ipython",
    "version": 3
   },
   "file_extension": ".py",
   "mimetype": "text/x-python",
   "name": "python",
   "nbconvert_exporter": "python",
   "pygments_lexer": "ipython3",
   "version": "3.11.4"
  }
 },
 "nbformat": 4,
 "nbformat_minor": 5
}
