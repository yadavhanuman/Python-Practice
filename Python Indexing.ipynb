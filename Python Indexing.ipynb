{
 "cells": [
  {
   "cell_type": "code",
   "execution_count": 2,
   "id": "3007026c",
   "metadata": {},
   "outputs": [
    {
     "ename": "TypeError",
     "evalue": "'>' not supported between instances of 'dict' and 'dict'",
     "output_type": "error",
     "traceback": [
      "\u001b[1;31m---------------------------------------------------------------------------\u001b[0m",
      "\u001b[1;31mTypeError\u001b[0m                                 Traceback (most recent call last)",
      "Cell \u001b[1;32mIn[2], line 4\u001b[0m\n\u001b[0;32m      1\u001b[0m d1 \u001b[38;5;241m=\u001b[39m {\u001b[38;5;124m\"\u001b[39m\u001b[38;5;124mNashit\u001b[39m\u001b[38;5;124m\"\u001b[39m:\u001b[38;5;241m40\u001b[39m, \u001b[38;5;124m\"\u001b[39m\u001b[38;5;124mHumam\u001b[39m\u001b[38;5;124m\"\u001b[39m:\u001b[38;5;241m45\u001b[39m} \n\u001b[0;32m      3\u001b[0m d2 \u001b[38;5;241m=\u001b[39m {\u001b[38;5;124m\"\u001b[39m\u001b[38;5;124mNashit\u001b[39m\u001b[38;5;124m\"\u001b[39m:\u001b[38;5;241m466\u001b[39m, \u001b[38;5;124m\"\u001b[39m\u001b[38;5;124mHumam\u001b[39m\u001b[38;5;124m\"\u001b[39m:\u001b[38;5;241m45\u001b[39m} \n\u001b[1;32m----> 4\u001b[0m \u001b[43md1\u001b[49m\u001b[38;5;241;43m>\u001b[39;49m\u001b[43md2\u001b[49m \n",
      "\u001b[1;31mTypeError\u001b[0m: '>' not supported between instances of 'dict' and 'dict'"
     ]
    }
   ],
   "source": [
    "d1 = {\"Nashit\":40, \"Humam\":45} \n",
    "  \n",
    "d2 = {\"Nashit\":466, \"Humam\":45} \n",
    "d1>d2 "
   ]
  },
  {
   "cell_type": "code",
   "execution_count": 3,
   "id": "f6cd2e4e",
   "metadata": {},
   "outputs": [
    {
     "name": "stdout",
     "output_type": "stream",
     "text": [
      "(1, 'A')\n",
      "(2, 'B')\n",
      "(3, 'C')\n"
     ]
    }
   ],
   "source": [
    "a=(1,2,3) \n",
    "  \n",
    "b=('A','B','C') \n",
    "  \n",
    "c=zip(a,b) \n",
    "for i in c:print(i)"
   ]
  },
  {
   "cell_type": "code",
   "execution_count": 5,
   "id": "c2df9c32",
   "metadata": {},
   "outputs": [
    {
     "name": "stdout",
     "output_type": "stream",
     "text": [
      "a\n"
     ]
    }
   ],
   "source": [
    "names = ['Allahabad', 'Dehradun', 'Kanpur', 'Patna'] \n",
    "  \n",
    "print(names[-1][-1]) "
   ]
  },
  {
   "cell_type": "code",
   "execution_count": 6,
   "id": "a87573df",
   "metadata": {},
   "outputs": [
    {
     "name": "stdout",
     "output_type": "stream",
     "text": [
      "17\n"
     ]
    }
   ],
   "source": [
    "def test(i,j): \n",
    "  \n",
    "    if(i==0): \n",
    "  \n",
    "        return j \n",
    "  \n",
    "    else: \n",
    "  \n",
    "        return test(i-1,i+j) \n",
    "  \n",
    "print(test(4,7))"
   ]
  },
  {
   "cell_type": "code",
   "execution_count": 7,
   "id": "27dc20e8",
   "metadata": {},
   "outputs": [
    {
     "name": "stdout",
     "output_type": "stream",
     "text": [
      "110"
     ]
    }
   ],
   "source": [
    "l=[ ]\n",
    "  \n",
    "def convert(b):\n",
    "  \n",
    "    if(b==0):\n",
    "  \n",
    "        return l\n",
    "  \n",
    "    dig=b%2\n",
    "  \n",
    "    l.append(dig)\n",
    "  \n",
    "    convert(b//2)\n",
    "  \n",
    "convert(6)\n",
    "  \n",
    "l.reverse()\n",
    "  \n",
    "for i in l:\n",
    "  \n",
    "    print(i,end=\"\")"
   ]
  },
  {
   "cell_type": "code",
   "execution_count": 8,
   "id": "0631af17",
   "metadata": {},
   "outputs": [
    {
     "name": "stdout",
     "output_type": "stream",
     "text": [
      "110"
     ]
    }
   ],
   "source": [
    "l=[ ]\n",
    "  \n",
    "def convert(b):\n",
    "  \n",
    "    if(b==0):\n",
    "  \n",
    "        return l\n",
    "  \n",
    "    dig=b%2\n",
    "  \n",
    "    l.append(dig)\n",
    "  \n",
    "    convert(b//2)\n",
    "  \n",
    "convert(6)\n",
    "  \n",
    "l.reverse()\n",
    "  \n",
    "for i in l:\n",
    "  \n",
    "    print(i,end=\"\")"
   ]
  },
  {
   "cell_type": "code",
   "execution_count": 9,
   "id": "53d50f5c",
   "metadata": {},
   "outputs": [
    {
     "name": "stdout",
     "output_type": "stream",
     "text": [
      "True\n"
     ]
    }
   ],
   "source": [
    "f = None \n",
    "  \n",
    "for i in range (5): \n",
    "  \n",
    "    with open(\"data.txt\", \"w\") as f: \n",
    "  \n",
    "             if i > 2: \n",
    "  \n",
    "                    break \n",
    "  \n",
    "print(f.closed)"
   ]
  },
  {
   "cell_type": "code",
   "execution_count": null,
   "id": "f2523fc4",
   "metadata": {},
   "outputs": [],
   "source": []
  },
  {
   "cell_type": "code",
   "execution_count": null,
   "id": "370fa707",
   "metadata": {},
   "outputs": [],
   "source": []
  },
  {
   "cell_type": "code",
   "execution_count": null,
   "id": "8e35179d",
   "metadata": {},
   "outputs": [],
   "source": []
  },
  {
   "cell_type": "code",
   "execution_count": null,
   "id": "8b140469",
   "metadata": {},
   "outputs": [],
   "source": []
  },
  {
   "cell_type": "code",
   "execution_count": null,
   "id": "dcb31b37",
   "metadata": {},
   "outputs": [],
   "source": []
  },
  {
   "cell_type": "code",
   "execution_count": null,
   "id": "7a7aebf2",
   "metadata": {},
   "outputs": [],
   "source": []
  },
  {
   "cell_type": "code",
   "execution_count": null,
   "id": "a67706af",
   "metadata": {},
   "outputs": [],
   "source": []
  },
  {
   "cell_type": "code",
   "execution_count": null,
   "id": "8acafffa",
   "metadata": {},
   "outputs": [],
   "source": []
  },
  {
   "cell_type": "code",
   "execution_count": null,
   "id": "0251fe52",
   "metadata": {},
   "outputs": [],
   "source": []
  },
  {
   "cell_type": "code",
   "execution_count": null,
   "id": "8101fcf3",
   "metadata": {},
   "outputs": [],
   "source": []
  }
 ],
 "metadata": {
  "kernelspec": {
   "display_name": "Python 3 (ipykernel)",
   "language": "python",
   "name": "python3"
  },
  "language_info": {
   "codemirror_mode": {
    "name": "ipython",
    "version": 3
   },
   "file_extension": ".py",
   "mimetype": "text/x-python",
   "name": "python",
   "nbconvert_exporter": "python",
   "pygments_lexer": "ipython3",
   "version": "3.11.4"
  }
 },
 "nbformat": 4,
 "nbformat_minor": 5
}
