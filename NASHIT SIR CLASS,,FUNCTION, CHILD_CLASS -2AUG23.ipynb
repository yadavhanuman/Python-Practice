{
 "cells": [
  {
   "cell_type": "code",
   "execution_count": 8,
   "id": "58bbf35e",
   "metadata": {},
   "outputs": [
    {
     "name": "stdout",
     "output_type": "stream",
     "text": [
      "a@gmail.com\n"
     ]
    }
   ],
   "source": [
    "class students:\n",
    "    def __init__(self, name, age, mail):\n",
    "        self.name=name\n",
    "        self.age=age\n",
    "        self.email=mail\n",
    "st1=students('ashish',19,'a@gmail.com')      \n",
    "print(st1.email)"
   ]
  },
  {
   "cell_type": "code",
   "execution_count": 7,
   "id": "3a695fa2",
   "metadata": {},
   "outputs": [],
   "source": [
    "class students:\n",
    "    def __init__(self,first,age,city,stipend):\n",
    "        self.first=first\n",
    "        self.age=age\n",
    "        self.city=city\n",
    "        self.email=first+city+'@gmail.com'\n",
    "        self.stipend=stipend\n",
    "        self.increment = 0.5*stipend+stipend\n",
    "    \n",
    "    def fullname(self):\n",
    "        return '{} {}'.format(self.first,self.last)\n",
    "    \n",
    "    def stip(self):\n",
    "        return 2*self.stipend\n",
    "    \n",
    "        \n",
    "st1=students('hanuman',18,'ambedkarnagar',12000)\n",
    "st2=students('rahul',16,'patna',16000)"
   ]
  },
  {
   "cell_type": "code",
   "execution_count": 8,
   "id": "afaefd6b",
   "metadata": {},
   "outputs": [
    {
     "data": {
      "text/plain": [
       "'rahulpatna@gmail.com'"
      ]
     },
     "execution_count": 8,
     "metadata": {},
     "output_type": "execute_result"
    }
   ],
   "source": [
    "st2.email"
   ]
  },
  {
   "cell_type": "code",
   "execution_count": 9,
   "id": "82a3d27f",
   "metadata": {},
   "outputs": [
    {
     "data": {
      "text/plain": [
       "24000"
      ]
     },
     "execution_count": 9,
     "metadata": {},
     "output_type": "execute_result"
    }
   ],
   "source": [
    "students.stip(st1)"
   ]
  },
  {
   "cell_type": "code",
   "execution_count": 39,
   "id": "2646ed9c",
   "metadata": {},
   "outputs": [],
   "source": [
    "class NSTI:\n",
    "    def __init__(self,city):\n",
    "        self.city=city \n",
    "    def hello(self):\n",
    "        return 'welcome to {} '.format(self.city)\n",
    "    \n",
    "class CITS(NSTI):\n",
    "    def __init__(self,dept,city):\n",
    "        self.dept=dept\n",
    "        self.city=city\n",
    "    def wel(self):\n",
    "        return 'you age asmitted to {}'.format(self.dept)\n",
    "    "
   ]
  },
  {
   "cell_type": "code",
   "execution_count": 40,
   "id": "106ce147",
   "metadata": {},
   "outputs": [
    {
     "data": {
      "text/plain": [
       "'welcome to patna '"
      ]
     },
     "execution_count": 40,
     "metadata": {},
     "output_type": "execute_result"
    }
   ],
   "source": [
    "n1=NSTI('patna')\n",
    "n1.hello()"
   ]
  },
  {
   "cell_type": "code",
   "execution_count": 23,
   "id": "496365d6",
   "metadata": {},
   "outputs": [],
   "source": [
    "c1=CITS('COPA','patna')"
   ]
  },
  {
   "cell_type": "code",
   "execution_count": 24,
   "id": "326317ea",
   "metadata": {},
   "outputs": [
    {
     "data": {
      "text/plain": [
       "'you age asmitted to COPA'"
      ]
     },
     "execution_count": 24,
     "metadata": {},
     "output_type": "execute_result"
    }
   ],
   "source": [
    "c1.wel()"
   ]
  },
  {
   "cell_type": "code",
   "execution_count": 28,
   "id": "31befccd",
   "metadata": {},
   "outputs": [
    {
     "data": {
      "text/plain": [
       "'welcometo patna'"
      ]
     },
     "execution_count": 28,
     "metadata": {},
     "output_type": "execute_result"
    }
   ],
   "source": [
    "c1.hello()"
   ]
  },
  {
   "cell_type": "code",
   "execution_count": 32,
   "id": "6d34a2b6",
   "metadata": {},
   "outputs": [],
   "source": [
    "class ADIT:\n",
    "    def subj(self):\n",
    "        print('[HTML,CSS,JS,PHP]')\n",
    "    def loc(self):\n",
    "        print('[ALD,KNP,DDN,PAT]')\n",
    "        \n",
    "class COPA:\n",
    "    def subj(self):\n",
    "        print('[HTML,CSS,Network]')\n",
    "    def loc(self):\n",
    "        print('[MUM,HYD,NOI]')\n",
    "    \n",
    "stu=ADIT()\n",
    "stu1=COPA()"
   ]
  },
  {
   "cell_type": "code",
   "execution_count": 35,
   "id": "6d048fd1",
   "metadata": {},
   "outputs": [
    {
     "name": "stdout",
     "output_type": "stream",
     "text": [
      "[HTML,CSS,JS,PHP]\n",
      "[HTML,CSS,Network]\n"
     ]
    }
   ],
   "source": [
    "stu.subj()\n",
    "stu1.subj()"
   ]
  },
  {
   "cell_type": "code",
   "execution_count": null,
   "id": "a1bb82d7",
   "metadata": {},
   "outputs": [],
   "source": []
  },
  {
   "cell_type": "code",
   "execution_count": null,
   "id": "a3bb09d7",
   "metadata": {},
   "outputs": [],
   "source": []
  },
  {
   "cell_type": "code",
   "execution_count": null,
   "id": "8ac32cec",
   "metadata": {},
   "outputs": [],
   "source": []
  },
  {
   "cell_type": "code",
   "execution_count": null,
   "id": "5df804bf",
   "metadata": {},
   "outputs": [],
   "source": []
  },
  {
   "cell_type": "code",
   "execution_count": null,
   "id": "10512309",
   "metadata": {},
   "outputs": [],
   "source": []
  }
 ],
 "metadata": {
  "kernelspec": {
   "display_name": "Python 3 (ipykernel)",
   "language": "python",
   "name": "python3"
  },
  "language_info": {
   "codemirror_mode": {
    "name": "ipython",
    "version": 3
   },
   "file_extension": ".py",
   "mimetype": "text/x-python",
   "name": "python",
   "nbconvert_exporter": "python",
   "pygments_lexer": "ipython3",
   "version": "3.11.4"
  }
 },
 "nbformat": 4,
 "nbformat_minor": 5
}
