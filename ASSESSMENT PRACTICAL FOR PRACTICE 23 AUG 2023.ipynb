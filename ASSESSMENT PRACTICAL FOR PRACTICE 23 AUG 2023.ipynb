{
 "cells": [
  {
   "cell_type": "markdown",
   "id": "3c0ff650",
   "metadata": {},
   "source": [
    "# PRACTICAL -1"
   ]
  },
  {
   "cell_type": "code",
   "execution_count": 13,
   "id": "4c93a267",
   "metadata": {},
   "outputs": [
    {
     "name": "stdout",
     "output_type": "stream",
     "text": [
      "Enter the string: India999\n",
      "India999 ,In string digits 999 ,It is the sum of digits: 27\n"
     ]
    }
   ],
   "source": [
    "str = input(\"Enter the string: \")\n",
    "sum = 0\n",
    "digitStr = ''\n",
    "for ch in str :\n",
    "    if ch.isdigit() :\n",
    "        digitStr += ch\n",
    "        sum += int(ch)\n",
    "if not digitStr :\n",
    "    print(str, \",In the string no digits.\")\n",
    "else :\n",
    "    print(str, \",In string digits\", digitStr,\n",
    "          \",It is the sum of digits:\", sum)"
   ]
  },
  {
   "cell_type": "markdown",
   "id": "617cf4ca",
   "metadata": {},
   "source": [
    "# PRCTICAL -2"
   ]
  },
  {
   "cell_type": "code",
   "execution_count": 2,
   "id": "656d33c3",
   "metadata": {},
   "outputs": [
    {
     "name": "stdout",
     "output_type": "stream",
     "text": [
      "[8, 17, 10]\n"
     ]
    }
   ],
   "source": [
    "LIST=[8,9,10]\n",
    "LIST[1]=17\n",
    "print(LIST)\n"
   ]
  },
  {
   "cell_type": "code",
   "execution_count": 3,
   "id": "abba1041",
   "metadata": {},
   "outputs": [
    {
     "name": "stdout",
     "output_type": "stream",
     "text": [
      "[8, 17, 10, [4, 5, 6]]\n"
     ]
    }
   ],
   "source": [
    "LIST=[8,9,10]\n",
    "LIST[1]=17\n",
    "LIST.append([4,5,6])\n",
    "print(LIST)"
   ]
  },
  {
   "cell_type": "code",
   "execution_count": 4,
   "id": "f3fc4b0c",
   "metadata": {},
   "outputs": [
    {
     "name": "stdout",
     "output_type": "stream",
     "text": [
      "[8, 17, 10, 4, 5, 6]\n"
     ]
    }
   ],
   "source": [
    "LIST=[8,9,10]\n",
    "LIST[1]=17\n",
    "LIST.extend([4,5,6])\n",
    "print(LIST)"
   ]
  },
  {
   "cell_type": "code",
   "execution_count": 5,
   "id": "6503e1b7",
   "metadata": {},
   "outputs": [
    {
     "name": "stdout",
     "output_type": "stream",
     "text": [
      "[17, 10, 4, 5, 6]\n"
     ]
    }
   ],
   "source": [
    "LIST=[8,9,10]\n",
    "LIST[1]=17\n",
    "LIST.extend([4,5,6])\n",
    "LIST.pop(0)\n",
    "print(LIST)"
   ]
  },
  {
   "cell_type": "code",
   "execution_count": 6,
   "id": "eba6f33a",
   "metadata": {},
   "outputs": [
    {
     "name": "stdout",
     "output_type": "stream",
     "text": [
      "[4, 5, 6, 10, 17]\n"
     ]
    }
   ],
   "source": [
    "LIST=[8,9,10]\n",
    "LIST[1]=17\n",
    "LIST.extend([4,5,6])\n",
    "LIST.pop(0)\n",
    "LIST.sort()\n",
    "print(LIST)"
   ]
  },
  {
   "cell_type": "code",
   "execution_count": 7,
   "id": "e37b9f91",
   "metadata": {},
   "outputs": [
    {
     "name": "stdout",
     "output_type": "stream",
     "text": [
      "[4, 5, 6, 10, 17, 4, 5, 6, 10, 17]\n"
     ]
    }
   ],
   "source": [
    "LIST_DOUBLE=LIST*2\n",
    "print(LIST_DOUBLE)"
   ]
  },
  {
   "cell_type": "code",
   "execution_count": 10,
   "id": "2ee0c6fa",
   "metadata": {},
   "outputs": [
    {
     "data": {
      "text/plain": [
       "[8, 9, 10, 25]"
      ]
     },
     "execution_count": 10,
     "metadata": {},
     "output_type": "execute_result"
    }
   ],
   "source": [
    "a=[8,9,10]\n",
    "a.insert(3,25)\n",
    "a\n"
   ]
  },
  {
   "cell_type": "markdown",
   "id": "4a73ac83",
   "metadata": {},
   "source": [
    "# PRACTICAL -3"
   ]
  },
  {
   "cell_type": "code",
   "execution_count": 13,
   "id": "18be57ba",
   "metadata": {},
   "outputs": [
    {
     "name": "stdout",
     "output_type": "stream",
     "text": [
      "The unsorted list is:  [5, 3, 8, 6, 7, 2]\n",
      "The sorted list is:  [2, 3, 5, 6, 7, 8]\n"
     ]
    }
   ],
   "source": [
    " \n",
    "def bubble_sort(list1):   \n",
    "    for i in range(0,len(list1)-1):  \n",
    "        for j in range(len(list1)-1):  \n",
    "            if(list1[j]>list1[j+1]):  \n",
    "                temp = list1[j]  \n",
    "                list1[j] = list1[j+1]  \n",
    "                list1[j+1] = temp  \n",
    "    return list1  \n",
    "  \n",
    "list1 = [5, 3, 8, 6, 7, 2]  \n",
    "print(\"The unsorted list is: \", list1)   \n",
    "print(\"The sorted list is: \", bubble_sort(list1)) "
   ]
  },
  {
   "cell_type": "markdown",
   "id": "e91e739a",
   "metadata": {},
   "source": [
    "# PRACTICAL -4"
   ]
  },
  {
   "cell_type": "code",
   "execution_count": 20,
   "id": "3385c6be",
   "metadata": {},
   "outputs": [
    {
     "name": "stdout",
     "output_type": "stream",
     "text": [
      "Enter the montn name in short form:jan\n",
      "Number of days in jan : 31\n"
     ]
    }
   ],
   "source": [
    "year={'jan':31,'feb':28,'mar':31,'apr':30,'may':31,'jun':30,\n",
    "       'jul':31,'aug':31,'sep':30,'oct':31,'nov':30,'dec':30}\n",
    "mth=input('Enter the montn name in short form:')\n",
    "print('Number of days in',mth,':',year[mth])"
   ]
  },
  {
   "cell_type": "markdown",
   "id": "c74984fa",
   "metadata": {},
   "source": [
    "# PRACTICAL -5"
   ]
  },
  {
   "cell_type": "code",
   "execution_count": 13,
   "id": "51f51d82",
   "metadata": {},
   "outputs": [
    {
     "data": {
      "text/plain": [
       "<_io.TextIOWrapper name='a.txt' mode='w' encoding='cp1252'>"
      ]
     },
     "execution_count": 13,
     "metadata": {},
     "output_type": "execute_result"
    }
   ],
   "source": [
    "a=open('a.txt','x')\n",
    "a\n"
   ]
  },
  {
   "cell_type": "code",
   "execution_count": 21,
   "id": "bc528435",
   "metadata": {},
   "outputs": [
    {
     "data": {
      "text/plain": [
       "<_io.TextIOWrapper name='a.txt' mode='w' encoding='cp1252'>"
      ]
     },
     "execution_count": 21,
     "metadata": {},
     "output_type": "execute_result"
    }
   ],
   "source": [
    "a=open('a.txt','w')\n",
    "a.write('make your action plane in notebook')\n",
    "a\n"
   ]
  },
  {
   "cell_type": "code",
   "execution_count": 1,
   "id": "bcfea939",
   "metadata": {},
   "outputs": [
    {
     "name": "stdout",
     "output_type": "stream",
     "text": [
      "make your action plane in notebook\n"
     ]
    }
   ],
   "source": [
    "a=open('a.txt','r')\n",
    "for i in a:\n",
    "    print(i)"
   ]
  },
  {
   "cell_type": "code",
   "execution_count": 2,
   "id": "3c9a3459",
   "metadata": {},
   "outputs": [
    {
     "data": {
      "text/plain": [
       "<_io.TextIOWrapper name='b.txt' mode='x' encoding='cp1252'>"
      ]
     },
     "execution_count": 2,
     "metadata": {},
     "output_type": "execute_result"
    }
   ],
   "source": [
    "a=open('b.txt','x')\n",
    "a"
   ]
  },
  {
   "cell_type": "code",
   "execution_count": null,
   "id": "1b0cc89c",
   "metadata": {},
   "outputs": [],
   "source": [
    "\n"
   ]
  },
  {
   "cell_type": "code",
   "execution_count": null,
   "id": "88f0d130",
   "metadata": {},
   "outputs": [],
   "source": []
  },
  {
   "cell_type": "code",
   "execution_count": null,
   "id": "cb29570b",
   "metadata": {},
   "outputs": [],
   "source": []
  },
  {
   "cell_type": "code",
   "execution_count": null,
   "id": "f7a9ed27",
   "metadata": {},
   "outputs": [],
   "source": []
  },
  {
   "cell_type": "code",
   "execution_count": null,
   "id": "6c102e14",
   "metadata": {},
   "outputs": [],
   "source": []
  },
  {
   "cell_type": "code",
   "execution_count": null,
   "id": "63f06852",
   "metadata": {},
   "outputs": [],
   "source": []
  },
  {
   "cell_type": "code",
   "execution_count": null,
   "id": "7ee6cb87",
   "metadata": {},
   "outputs": [],
   "source": []
  }
 ],
 "metadata": {
  "kernelspec": {
   "display_name": "Python 3 (ipykernel)",
   "language": "python",
   "name": "python3"
  },
  "language_info": {
   "codemirror_mode": {
    "name": "ipython",
    "version": 3
   },
   "file_extension": ".py",
   "mimetype": "text/x-python",
   "name": "python",
   "nbconvert_exporter": "python",
   "pygments_lexer": "ipython3",
   "version": "3.11.4"
  }
 },
 "nbformat": 4,
 "nbformat_minor": 5
}
